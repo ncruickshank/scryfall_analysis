{
 "cells": [
  {
   "cell_type": "markdown",
   "metadata": {
    "id": "OrNL_-WyYXHH"
   },
   "source": [
    "# Scryfall Analysis - Cube Structure"
   ]
  },
  {
   "cell_type": "markdown",
   "metadata": {
    "id": "4ntd2ooKYXHK"
   },
   "source": [
    "__Objective:__ Connect to publicly available data on Scryfall through their REST API to identify patterns set design."
   ]
  },
  {
   "cell_type": "code",
   "execution_count": 1,
   "metadata": {
    "colab": {
     "base_uri": "https://localhost:8080/"
    },
    "id": "1qLRIynwYXHL",
    "outputId": "4ba4fa72-6d0c-44b4-bbcd-8169fa36bdb8"
   },
   "outputs": [
    {
     "name": "stdout",
     "output_type": "stream",
     "text": [
      "Script last ran on 06/14/2021\n"
     ]
    }
   ],
   "source": [
    "import datetime\n",
    "print(\"Script last ran on\", datetime.datetime.today().strftime(\"%m/%d/%Y\"))"
   ]
  },
  {
   "cell_type": "code",
   "execution_count": 11,
   "metadata": {
    "colab": {
     "base_uri": "https://localhost:8080/"
    },
    "id": "i6P-b5CDYXHM",
    "outputId": "eaf96d5c-0a38-4756-b734-7aeefa815f8e"
   },
   "outputs": [],
   "source": [
    "# libraries\n",
    "import json\n",
    "import numpy as np\n",
    "import pandas as pd\n",
    "from matplotlib import pyplot as plt\n",
    "%matplotlib inline\n",
    "import re\n",
    "import requests\n",
    "from selenium import webdriver"
   ]
  },
  {
   "cell_type": "code",
   "execution_count": 3,
   "metadata": {
    "colab": {
     "base_uri": "https://localhost:8080/"
    },
    "id": "H75i40BlYXHM",
    "outputId": "28217ea8-459c-4a90-94e3-8659b581691d"
   },
   "outputs": [
    {
     "name": "stdout",
     "output_type": "stream",
     "text": [
      "HREF for 'Default Cards' Bulk Dataset:\n",
      "\t https://c2.scryfall.com/file/scryfall-bulk/default-cards/default-cards-20210614210334.json \n",
      "\n",
      "HREF for 'All Cards' Bulk Dataset:\n",
      "\t https://c2.scryfall.com/file/scryfall-bulk/all-cards/all-cards-20210614211729.json\n"
     ]
    }
   ],
   "source": [
    "# open browser and go to scryfall\n",
    "driver = webdriver.Chrome()\n",
    "driver.get(\"https://scryfall.com/docs/api/bulk-data\")\n",
    "\n",
    "# retrieve the most recent json file containing 'Default Cards'\n",
    "default_cards_href = driver.find_element_by_css_selector('#main > div > div.reference-doc-content > div > table:nth-child(7) > tbody > tr:nth-child(5) > td:nth-child(2) > a').get_attribute('href')\n",
    "\n",
    "# retrieve the most recent json file containing 'All Cards'\n",
    "all_cards_href = driver.find_element_by_css_selector('#main > div > div.reference-doc-content > div > table:nth-child(7) > tbody > tr:nth-child(7) > td:nth-child(2) > a').get_attribute('href')\n",
    "\n",
    "print(\"HREF for 'Default Cards' Bulk Dataset:\\n\\t\", default_cards_href, \"\\n\")\n",
    "print(\"HREF for 'All Cards' Bulk Dataset:\\n\\t\", all_cards_href)"
   ]
  },
  {
   "cell_type": "code",
   "execution_count": 4,
   "metadata": {
    "id": "ENp3Q6qzYXHN"
   },
   "outputs": [],
   "source": [
    "driver.quit()\n",
    "# if you want to read the most recent scryfall data uncomment the following block\n",
    "# try:\n",
    "#     df = pd.read_json(default_cards_href)\n",
    "# except:\n",
    "#     df = pd.read_json(all_cards_href)"
   ]
  },
  {
   "cell_type": "code",
   "execution_count": 21,
   "metadata": {
    "colab": {
     "base_uri": "https://localhost:8080/",
     "height": 717
    },
    "id": "wEunvH0fYXHN",
    "outputId": "d826e8ee-b66a-4ea2-fe21-9765a13e0d87"
   },
   "outputs": [
    {
     "ename": "MemoryError",
     "evalue": "",
     "output_type": "error",
     "traceback": [
      "\u001b[1;31m---------------------------------------------------------------------------\u001b[0m",
      "\u001b[1;31mMemoryError\u001b[0m                               Traceback (most recent call last)",
      "\u001b[1;32m<ipython-input-21-2d174470ab25>\u001b[0m in \u001b[0;36m<module>\u001b[1;34m\u001b[0m\n\u001b[0;32m      1\u001b[0m \u001b[0mjson_path\u001b[0m \u001b[1;33m=\u001b[0m \u001b[1;34m'default-cards-20210614210334.json'\u001b[0m\u001b[1;33m\u001b[0m\u001b[1;33m\u001b[0m\u001b[0m\n\u001b[0;32m      2\u001b[0m \u001b[1;33m\u001b[0m\u001b[0m\n\u001b[1;32m----> 3\u001b[1;33m \u001b[0mdf\u001b[0m \u001b[1;33m=\u001b[0m \u001b[0mpd\u001b[0m\u001b[1;33m.\u001b[0m\u001b[0mread_json\u001b[0m\u001b[1;33m(\u001b[0m\u001b[0mjson_path\u001b[0m\u001b[1;33m)\u001b[0m\u001b[1;33m\u001b[0m\u001b[1;33m\u001b[0m\u001b[0m\n\u001b[0m\u001b[0;32m      4\u001b[0m \u001b[0mdf\u001b[0m\u001b[1;33m.\u001b[0m\u001b[0mhead\u001b[0m\u001b[1;33m(\u001b[0m\u001b[1;33m)\u001b[0m\u001b[1;33m\u001b[0m\u001b[1;33m\u001b[0m\u001b[0m\n\u001b[0;32m      5\u001b[0m \u001b[1;31m# print(\"Shape of df (rows, columns): \", df.shape)\u001b[0m\u001b[1;33m\u001b[0m\u001b[1;33m\u001b[0m\u001b[1;33m\u001b[0m\u001b[0m\n",
      "\u001b[1;32m~\\anaconda3\\envs\\r-tutorial\\lib\\site-packages\\pandas\\util\\_decorators.py\u001b[0m in \u001b[0;36mwrapper\u001b[1;34m(*args, **kwargs)\u001b[0m\n\u001b[0;32m    197\u001b[0m                 \u001b[1;32melse\u001b[0m\u001b[1;33m:\u001b[0m\u001b[1;33m\u001b[0m\u001b[1;33m\u001b[0m\u001b[0m\n\u001b[0;32m    198\u001b[0m                     \u001b[0mkwargs\u001b[0m\u001b[1;33m[\u001b[0m\u001b[0mnew_arg_name\u001b[0m\u001b[1;33m]\u001b[0m \u001b[1;33m=\u001b[0m \u001b[0mnew_arg_value\u001b[0m\u001b[1;33m\u001b[0m\u001b[1;33m\u001b[0m\u001b[0m\n\u001b[1;32m--> 199\u001b[1;33m             \u001b[1;32mreturn\u001b[0m \u001b[0mfunc\u001b[0m\u001b[1;33m(\u001b[0m\u001b[1;33m*\u001b[0m\u001b[0margs\u001b[0m\u001b[1;33m,\u001b[0m \u001b[1;33m**\u001b[0m\u001b[0mkwargs\u001b[0m\u001b[1;33m)\u001b[0m\u001b[1;33m\u001b[0m\u001b[1;33m\u001b[0m\u001b[0m\n\u001b[0m\u001b[0;32m    200\u001b[0m \u001b[1;33m\u001b[0m\u001b[0m\n\u001b[0;32m    201\u001b[0m         \u001b[1;32mreturn\u001b[0m \u001b[0mcast\u001b[0m\u001b[1;33m(\u001b[0m\u001b[0mF\u001b[0m\u001b[1;33m,\u001b[0m \u001b[0mwrapper\u001b[0m\u001b[1;33m)\u001b[0m\u001b[1;33m\u001b[0m\u001b[1;33m\u001b[0m\u001b[0m\n",
      "\u001b[1;32m~\\anaconda3\\envs\\r-tutorial\\lib\\site-packages\\pandas\\util\\_decorators.py\u001b[0m in \u001b[0;36mwrapper\u001b[1;34m(*args, **kwargs)\u001b[0m\n\u001b[0;32m    294\u001b[0m                 )\n\u001b[0;32m    295\u001b[0m                 \u001b[0mwarnings\u001b[0m\u001b[1;33m.\u001b[0m\u001b[0mwarn\u001b[0m\u001b[1;33m(\u001b[0m\u001b[0mmsg\u001b[0m\u001b[1;33m,\u001b[0m \u001b[0mFutureWarning\u001b[0m\u001b[1;33m,\u001b[0m \u001b[0mstacklevel\u001b[0m\u001b[1;33m=\u001b[0m\u001b[0mstacklevel\u001b[0m\u001b[1;33m)\u001b[0m\u001b[1;33m\u001b[0m\u001b[1;33m\u001b[0m\u001b[0m\n\u001b[1;32m--> 296\u001b[1;33m             \u001b[1;32mreturn\u001b[0m \u001b[0mfunc\u001b[0m\u001b[1;33m(\u001b[0m\u001b[1;33m*\u001b[0m\u001b[0margs\u001b[0m\u001b[1;33m,\u001b[0m \u001b[1;33m**\u001b[0m\u001b[0mkwargs\u001b[0m\u001b[1;33m)\u001b[0m\u001b[1;33m\u001b[0m\u001b[1;33m\u001b[0m\u001b[0m\n\u001b[0m\u001b[0;32m    297\u001b[0m \u001b[1;33m\u001b[0m\u001b[0m\n\u001b[0;32m    298\u001b[0m         \u001b[1;32mreturn\u001b[0m \u001b[0mwrapper\u001b[0m\u001b[1;33m\u001b[0m\u001b[1;33m\u001b[0m\u001b[0m\n",
      "\u001b[1;32m~\\anaconda3\\envs\\r-tutorial\\lib\\site-packages\\pandas\\io\\json\\_json.py\u001b[0m in \u001b[0;36mread_json\u001b[1;34m(path_or_buf, orient, typ, dtype, convert_axes, convert_dates, keep_default_dates, numpy, precise_float, date_unit, encoding, lines, chunksize, compression, nrows)\u001b[0m\n\u001b[0;32m    610\u001b[0m         \u001b[0mchunksize\u001b[0m\u001b[1;33m=\u001b[0m\u001b[0mchunksize\u001b[0m\u001b[1;33m,\u001b[0m\u001b[1;33m\u001b[0m\u001b[1;33m\u001b[0m\u001b[0m\n\u001b[0;32m    611\u001b[0m         \u001b[0mcompression\u001b[0m\u001b[1;33m=\u001b[0m\u001b[0mcompression\u001b[0m\u001b[1;33m,\u001b[0m\u001b[1;33m\u001b[0m\u001b[1;33m\u001b[0m\u001b[0m\n\u001b[1;32m--> 612\u001b[1;33m         \u001b[0mnrows\u001b[0m\u001b[1;33m=\u001b[0m\u001b[0mnrows\u001b[0m\u001b[1;33m,\u001b[0m\u001b[1;33m\u001b[0m\u001b[1;33m\u001b[0m\u001b[0m\n\u001b[0m\u001b[0;32m    613\u001b[0m     )\n\u001b[0;32m    614\u001b[0m \u001b[1;33m\u001b[0m\u001b[0m\n",
      "\u001b[1;32m~\\anaconda3\\envs\\r-tutorial\\lib\\site-packages\\pandas\\io\\json\\_json.py\u001b[0m in \u001b[0;36m__init__\u001b[1;34m(self, filepath_or_buffer, orient, typ, dtype, convert_axes, convert_dates, keep_default_dates, numpy, precise_float, date_unit, encoding, lines, chunksize, compression, nrows)\u001b[0m\n\u001b[0;32m    678\u001b[0m \u001b[1;33m\u001b[0m\u001b[0m\n\u001b[0;32m    679\u001b[0m         \u001b[0mdata\u001b[0m \u001b[1;33m=\u001b[0m \u001b[0mself\u001b[0m\u001b[1;33m.\u001b[0m\u001b[0m_get_data_from_filepath\u001b[0m\u001b[1;33m(\u001b[0m\u001b[0mfilepath_or_buffer\u001b[0m\u001b[1;33m)\u001b[0m\u001b[1;33m\u001b[0m\u001b[1;33m\u001b[0m\u001b[0m\n\u001b[1;32m--> 680\u001b[1;33m         \u001b[0mself\u001b[0m\u001b[1;33m.\u001b[0m\u001b[0mdata\u001b[0m \u001b[1;33m=\u001b[0m \u001b[0mself\u001b[0m\u001b[1;33m.\u001b[0m\u001b[0m_preprocess_data\u001b[0m\u001b[1;33m(\u001b[0m\u001b[0mdata\u001b[0m\u001b[1;33m)\u001b[0m\u001b[1;33m\u001b[0m\u001b[1;33m\u001b[0m\u001b[0m\n\u001b[0m\u001b[0;32m    681\u001b[0m \u001b[1;33m\u001b[0m\u001b[0m\n\u001b[0;32m    682\u001b[0m     \u001b[1;32mdef\u001b[0m \u001b[0m_preprocess_data\u001b[0m\u001b[1;33m(\u001b[0m\u001b[0mself\u001b[0m\u001b[1;33m,\u001b[0m \u001b[0mdata\u001b[0m\u001b[1;33m)\u001b[0m\u001b[1;33m:\u001b[0m\u001b[1;33m\u001b[0m\u001b[1;33m\u001b[0m\u001b[0m\n",
      "\u001b[1;32m~\\anaconda3\\envs\\r-tutorial\\lib\\site-packages\\pandas\\io\\json\\_json.py\u001b[0m in \u001b[0;36m_preprocess_data\u001b[1;34m(self, data)\u001b[0m\n\u001b[0;32m    689\u001b[0m         \"\"\"\n\u001b[0;32m    690\u001b[0m         \u001b[1;32mif\u001b[0m \u001b[0mhasattr\u001b[0m\u001b[1;33m(\u001b[0m\u001b[0mdata\u001b[0m\u001b[1;33m,\u001b[0m \u001b[1;34m\"read\"\u001b[0m\u001b[1;33m)\u001b[0m \u001b[1;32mand\u001b[0m \u001b[1;33m(\u001b[0m\u001b[1;32mnot\u001b[0m \u001b[0mself\u001b[0m\u001b[1;33m.\u001b[0m\u001b[0mchunksize\u001b[0m \u001b[1;32mor\u001b[0m \u001b[1;32mnot\u001b[0m \u001b[0mself\u001b[0m\u001b[1;33m.\u001b[0m\u001b[0mnrows\u001b[0m\u001b[1;33m)\u001b[0m\u001b[1;33m:\u001b[0m\u001b[1;33m\u001b[0m\u001b[1;33m\u001b[0m\u001b[0m\n\u001b[1;32m--> 691\u001b[1;33m             \u001b[0mdata\u001b[0m \u001b[1;33m=\u001b[0m \u001b[0mdata\u001b[0m\u001b[1;33m.\u001b[0m\u001b[0mread\u001b[0m\u001b[1;33m(\u001b[0m\u001b[1;33m)\u001b[0m\u001b[1;33m\u001b[0m\u001b[1;33m\u001b[0m\u001b[0m\n\u001b[0m\u001b[0;32m    692\u001b[0m         \u001b[1;32mif\u001b[0m \u001b[1;32mnot\u001b[0m \u001b[0mhasattr\u001b[0m\u001b[1;33m(\u001b[0m\u001b[0mdata\u001b[0m\u001b[1;33m,\u001b[0m \u001b[1;34m\"read\"\u001b[0m\u001b[1;33m)\u001b[0m \u001b[1;32mand\u001b[0m \u001b[1;33m(\u001b[0m\u001b[0mself\u001b[0m\u001b[1;33m.\u001b[0m\u001b[0mchunksize\u001b[0m \u001b[1;32mor\u001b[0m \u001b[0mself\u001b[0m\u001b[1;33m.\u001b[0m\u001b[0mnrows\u001b[0m\u001b[1;33m)\u001b[0m\u001b[1;33m:\u001b[0m\u001b[1;33m\u001b[0m\u001b[1;33m\u001b[0m\u001b[0m\n\u001b[0;32m    693\u001b[0m             \u001b[0mdata\u001b[0m \u001b[1;33m=\u001b[0m \u001b[0mStringIO\u001b[0m\u001b[1;33m(\u001b[0m\u001b[0mdata\u001b[0m\u001b[1;33m)\u001b[0m\u001b[1;33m\u001b[0m\u001b[1;33m\u001b[0m\u001b[0m\n",
      "\u001b[1;31mMemoryError\u001b[0m: "
     ]
    }
   ],
   "source": [
    "json_path = 'default-cards-20210614210334.json'\n",
    "\n",
    "df = pd.read_json(json_path)\n",
    "df.head()\n",
    "# print(\"Shape of df (rows, columns): \", df.shape)\n",
    "# print(\"Columns Names\\n\", list(df.columns), \"\\n\")\n",
    "# df.head()"
   ]
  },
  {
   "cell_type": "code",
   "execution_count": null,
   "metadata": {
    "colab": {
     "base_uri": "https://localhost:8080/"
    },
    "id": "abKP-QEpYXHO",
    "outputId": "39480b48-369b-4a9c-884e-2b78e85dc92c"
   },
   "outputs": [],
   "source": [
    "# tidy dataframe\n",
    "cols = ['name', 'mana_cost', 'cmc', 'type_line', 'oracle_text', 'power', 'toughness', 'colors', 'color_identity', 'keywords', 'set', 'set_name', 'rarity', 'edhrec_rank', 'produced_mana', 'printed_name', 'printed_text', 'legalities', 'lang']\n",
    "pioneer_sets = ['Strixhaven: School of Mages', 'Kaldheim', 'Zendikar Rising', 'Core 2021', 'Ikoria Lair of Behemoths', 'Theros Beyond Death', 'Throne of Eldraine', 'Core Set 2020', \n",
    "                'War of the Spark', 'Ravnica Allegiance', 'Guilds of Ravnica', 'Core Set 2019', 'Dominaria', 'Rivals of Ixalan', 'Ixalan', 'Hour of Devastation', \n",
    "                'Amonkhet', 'Aether Revolt', 'Kaladesh', 'Eldritch Moon', 'Shadows over Innistrad', 'Oath of the Gatewatch', 'Battle for Zendikar', 'Magic Origins', \n",
    "                'Dragons of Tarkir', 'Fate Reforged', 'Khans of Tarkir', 'Magic 2015', 'Journey into Nyx', 'Born of the Gods', 'Theros', 'Magic 2014', \n",
    "                \"Dragon's Maze\", 'Gatecrash', 'Return to Ravnica']\n",
    "\n",
    "pioneer = df[cols]\n",
    "\n",
    "#pioneer = pioneer[pioneer['legalities'].astype(str).str.contains(\"'pioneer': 'legal'\")] # take only cards from pioneer onwards\n",
    "pioneer = pioneer[pioneer['set_name'].isin(pioneer_sets)]\n",
    "pioneer = pioneer[(pioneer['rarity'] == 'common') & (~pioneer['type_line'].str.contains('Land')) &\n",
    "                 (pioneer['lang'] == 'en')] # filter for commons that aren't lands\n",
    "\n",
    "# evasion\n",
    "evasion_keywords = ['Flying', 'Trample', 'Menace',\n",
    "                    'Plainswalk', 'Islandwalk', 'Forestwalk', 'Mountainwalk', 'Swampwalk',\n",
    "                    'Skulk', 'Shadow', 'Fear', 'Intimidate']\n",
    "pioneer['evasion'] = pioneer['keywords'].apply(lambda x: bool(any(item in x for item in evasion_keywords)))\n",
    "\n",
    "# removal\n",
    "## need to figure out a way to apply this re to create a boolean column\n",
    "removal_re = re.compile(r\"\"\"\n",
    "                        (\n",
    "                          enchanted (creature|permanent) can\\'t attack (?!until end of turn)|\n",
    "                          exile target (?!card)|\n",
    "                          enchanted creature doesn\\'t untap|\n",
    "                          return target (creature|nonland permanent) to its owner\\'s hand|\n",
    "                          put target (creature|permanent)|\n",
    "                          destroy target|\n",
    "                          target (player|opponent) sacrifice|\n",
    "                          (\\+|-)[0-9]*/-[1-9]* until end of turn|\n",
    "                          deals [0-9]* damage|\n",
    "                          deals damage equal|\n",
    "                          target creature .* control(s)? fight\n",
    "                        )\n",
    "                        \"\"\",\n",
    "                        re.VERBOSE | re.IGNORECASE)\n",
    "\n",
    "pioneer['removal'] = pioneer.oracle_text.astype(str).apply(lambda x: bool(test_re.search(x.lower())))\n",
    "pioneer[(pioneer['removal'] == True) & ~(pioneer['type_line'].str.contains('Creature'))][:100].oracle_text.tolist()\n"
   ]
  },
  {
   "cell_type": "markdown",
   "metadata": {
    "id": "CyRCgiADYXHO"
   },
   "source": [
    "## Summary Statistics by Set"
   ]
  },
  {
   "cell_type": "code",
   "execution_count": null,
   "metadata": {
    "colab": {
     "base_uri": "https://localhost:8080/",
     "height": 1000
    },
    "id": "vXyMJoZfYXHP",
    "outputId": "4be25981-c8da-4fac-fdd3-7366f148d9cc"
   },
   "outputs": [],
   "source": [
    "card_type_breakdown = pioneer.groupby('set_name').size().reset_index(name = 'commons') # number of commons\n",
    "\n",
    "card_types = ['Creature', 'Enchantment', 'Instant', 'Sorcery', 'Artifact']\n",
    "for card_type in card_types:\n",
    "    new_df = pioneer[pioneer['type_line'].str.contains(card_type)].groupby('set_name').size().reset_index(name = card_type + \"s\")\n",
    "    card_type_breakdown = card_type_breakdown.merge(new_df, how = 'left', on = 'set_name')\n",
    "\n",
    "print('\\nCard Type Breakdown\\n')\n",
    "card_type_breakdown = card_type_breakdown.replace(np.nan, 0)\n",
    "card_type_breakdown"
   ]
  },
  {
   "cell_type": "code",
   "execution_count": null,
   "metadata": {
    "id": "Nv7DwMDXYXHP"
   },
   "outputs": [],
   "source": [
    "# for each card type, create a boxplot chart where x is set and y is card ratio"
   ]
  },
  {
   "cell_type": "markdown",
   "metadata": {
    "id": "BH1lHwtvYXHQ"
   },
   "source": [
    "## White"
   ]
  },
  {
   "cell_type": "code",
   "execution_count": null,
   "metadata": {
    "colab": {
     "base_uri": "https://localhost:8080/",
     "height": 286
    },
    "id": "w8d3m2nCYXHQ",
    "outputId": "121ea5ca-f75c-47a4-fda2-6aa5b28c5bd4"
   },
   "outputs": [],
   "source": [
    "white = pioneer[pioneer['color_identity'].astype(str).str.contains(\"W\")]\n",
    "card_type_breakdown_w = white.groupby('set_name').size().reset_index(name = 'commons') # number of commons\n",
    "\n",
    "card_types = ['Creature', 'Enchantment', 'Instant', 'Sorcery', 'Artifact']\n",
    "for card_type in card_types:\n",
    "    new_df = white[white['type_line'].str.contains(card_type)].groupby('set_name').size().reset_index(name = card_type + \"s\")\n",
    "    card_type_breakdown_w = card_type_breakdown_w.merge(new_df, how = 'left', on = 'set_name')\n",
    "\n",
    "print('\\nCard Type Breakdown For White\\n')\n",
    "card_type_breakdown_w = card_type_breakdown_w.replace(np.nan, 0).set_index('set_name')\n",
    "ctypes_ratio_w = card_type_breakdown_w.iloc[:, 1:].div(card_type_breakdown_w.commons, axis = 0)\n",
    "ratio_sums = [row.Creatures + row.Enchantments + row.Instants + row.Sorcerys + row.Artifacts for index, row in ctypes_ratio_w.iterrows()]\n",
    "ctypes_ratio_w['ratio_sums'] = ratio_sums\n",
    "ctypes_ratio_w.head()"
   ]
  },
  {
   "cell_type": "code",
   "execution_count": null,
   "metadata": {
    "id": "5XDKp74zYXHR"
   },
   "outputs": [],
   "source": [
    "# cart_type_w_long = pd.melt(card_type_breakdown_w, value_vars = ['Creatures', 'Enchantments', 'Instants', 'Sorcerys', 'Artifacts'],  var_name = 'card_type')"
   ]
  },
  {
   "cell_type": "markdown",
   "metadata": {
    "id": "a_DCy7-cYXHR"
   },
   "source": [
    "### Creatures"
   ]
  },
  {
   "cell_type": "markdown",
   "metadata": {
    "id": "NrVzMoKsZz6u"
   },
   "source": [
    "#### Average Curve"
   ]
  },
  {
   "cell_type": "code",
   "execution_count": null,
   "metadata": {
    "colab": {
     "base_uri": "https://localhost:8080/",
     "height": 350
    },
    "id": "7lgELujjYXHS",
    "outputId": "698bc265-5a58-4cac-bb22-a23690cda302"
   },
   "outputs": [],
   "source": [
    "# white creatures df\n",
    "white_creatures = white[white['type_line'].str.contains('Creature')]\n",
    "creature_curve_df_w = white_creatures.groupby(['set_name', 'cmc']).size().reset_index(name = 'cards')\n",
    "creature_curve_df_w = creature_curve_df_w.groupby('cmc').cards.agg(['mean', 'min', 'max', 'std']).reset_index()\n",
    "creature_curve_df_w['count_ratio'] = creature_curve_df_w['mean'] / creature_curve_df_w['mean'].sum()\n",
    "\n",
    "# white creature curve\n",
    "plt.figure(figsize = (8,5))\n",
    "plt.bar(x = creature_curve_df_w['cmc'], height = creature_curve_df_w['mean'], yerr = creature_curve_df_w['std'],\n",
    "        color = 'ivory', edgecolor = 'black')\n",
    "plt.ylabel('Average Card Count')\n",
    "plt.xlabel('Mana Value')\n",
    "plt.title('White: Average Creature Curve');"
   ]
  },
  {
   "cell_type": "code",
   "execution_count": null,
   "metadata": {
    "colab": {
     "base_uri": "https://localhost:8080/"
    },
    "id": "lQb89C7RccXd",
    "outputId": "4b60022a-7e52-412d-ff63-8673f0b7d29f"
   },
   "outputs": [],
   "source": [
    "creature_ratio_w = ctypes_ratio_w['Creatures'].mean()\n",
    "print(\"Average percent of white cards which are creatures:\", creature_ratio_w, \"\\n\")\n",
    "\n",
    "for index, row in creature_curve_df_w.iterrows():\n",
    "  print(\"\\tRatio of\", row['cmc'], \"drops:\", row['count_ratio'])"
   ]
  },
  {
   "cell_type": "markdown",
   "metadata": {
    "id": "ilrHyuoTZs3Y"
   },
   "source": [
    "#### Creatures with Evasion"
   ]
  },
  {
   "cell_type": "code",
   "execution_count": null,
   "metadata": {
    "colab": {
     "base_uri": "https://localhost:8080/"
    },
    "id": "1-bw2nAdaAMq",
    "outputId": "71fc1704-4dc6-4a78-9d63-675ad53b3a4d"
   },
   "outputs": [],
   "source": [
    "print(\"Ratio of white creatures with evasion:\\t\",\n",
    "      len(white_creatures[white_creatures['evasion'] == True]) / len(white_creatures))"
   ]
  },
  {
   "cell_type": "markdown",
   "metadata": {
    "id": "zun4dAAHpQ2e"
   },
   "source": [
    "### Non-Creatures"
   ]
  },
  {
   "cell_type": "code",
   "execution_count": null,
   "metadata": {
    "colab": {
     "base_uri": "https://localhost:8080/",
     "height": 357
    },
    "id": "s7EmB7-upVvv",
    "outputId": "96532896-a443-40aa-c449-75fcd59d6535"
   },
   "outputs": [],
   "source": []
  },
  {
   "cell_type": "markdown",
   "metadata": {
    "id": "0rN6kLFzYXHT"
   },
   "source": [
    "## Blue"
   ]
  },
  {
   "cell_type": "code",
   "execution_count": null,
   "metadata": {
    "colab": {
     "base_uri": "https://localhost:8080/",
     "height": 286
    },
    "id": "Fkrkwx15YXHU",
    "outputId": "a7643732-3051-4569-8cfb-f2b38c6a121d"
   },
   "outputs": [],
   "source": [
    "blue = pioneer[pioneer['color_identity'].astype(str).str.contains(\"U\")]\n",
    "card_type_breakdown_u = blue.groupby('set_name').size().reset_index(name = 'commons') # number of commons\n",
    "\n",
    "card_types = ['Creature', 'Enchantment', 'Instant', 'Sorcery', 'Artifact']\n",
    "for card_type in card_types:\n",
    "    new_df = blue[blue['type_line'].str.contains(card_type)].groupby('set_name').size().reset_index(name = card_type + \"s\")\n",
    "    card_type_breakdown_u = card_type_breakdown_u.merge(new_df, how = 'left', on = 'set_name')\n",
    "\n",
    "print('\\nCard Type Breakdown For Blue\\n')\n",
    "card_type_breakdown_u = card_type_breakdown_u.replace(np.nan, 0).set_index('set_name')\n",
    "ctypes_ratio_u = card_type_breakdown_u.iloc[:, 1:].div(card_type_breakdown_u.commons, axis = 0)\n",
    "ratio_sums = [row.Creatures + row.Enchantments + row.Instants + row.Sorcerys + row.Artifacts for index, row in ctypes_ratio_u.iterrows()]\n",
    "ctypes_ratio_u['ratio_sums'] = ratio_sums\n",
    "ctypes_ratio_u.head()"
   ]
  },
  {
   "cell_type": "markdown",
   "metadata": {
    "id": "AksOqqvWl5zv"
   },
   "source": [
    "### Creatures"
   ]
  },
  {
   "cell_type": "code",
   "execution_count": null,
   "metadata": {
    "colab": {
     "base_uri": "https://localhost:8080/",
     "height": 350
    },
    "id": "Lz3ebjEzl1XR",
    "outputId": "057a2c96-b448-49fb-826a-c0492a0a2977"
   },
   "outputs": [],
   "source": [
    "# blue creatures df\n",
    "blue_creatures = blue[blue['type_line'].str.contains('Creature')]\n",
    "creature_curve_df_u = blue_creatures.groupby(['set_name', 'cmc']).size().reset_index(name = 'cards')\n",
    "creature_curve_df_u = creature_curve_df_u.groupby('cmc').cards.agg(['mean', 'min', 'max', 'std']).reset_index()\n",
    "creature_curve_df_u['count_ratio'] = creature_curve_df_u['mean'] / creature_curve_df_u['mean'].sum()\n",
    "\n",
    "# blue creature curve\n",
    "plt.figure(figsize = (8,5))\n",
    "plt.bar(x = creature_curve_df_u['cmc'], height = creature_curve_df_u['mean'], yerr = creature_curve_df_u['std'],\n",
    "        color = 'dodgerblue', edgecolor = 'black')\n",
    "plt.ylabel('Average Card Count')\n",
    "plt.xlabel('Mana Value')\n",
    "plt.title('Blue: Average Creature Curve');"
   ]
  },
  {
   "cell_type": "code",
   "execution_count": null,
   "metadata": {
    "colab": {
     "base_uri": "https://localhost:8080/"
    },
    "id": "THkaw1ZgmWAr",
    "outputId": "dcf30755-054d-4550-b4ea-d2e8f8bc0f00"
   },
   "outputs": [],
   "source": [
    "creature_ratio_u = ctypes_ratio_u['Creatures'].mean()\n",
    "print(\"Average percent of blue cards which are creatures:\", creature_ratio_u, \"\\n\")\n",
    "\n",
    "for index, row in creature_curve_df_u.iterrows():\n",
    "  print(\"\\tRatio of\", row['cmc'], \"drops:\", row['count_ratio'])"
   ]
  },
  {
   "cell_type": "markdown",
   "metadata": {
    "id": "gvoYHOkmYXHU"
   },
   "source": [
    "## Black"
   ]
  },
  {
   "cell_type": "code",
   "execution_count": null,
   "metadata": {
    "colab": {
     "base_uri": "https://localhost:8080/",
     "height": 286
    },
    "id": "Rq9lrbhupEDO",
    "outputId": "901ffe33-6abf-46e7-a305-5def667757ac"
   },
   "outputs": [],
   "source": [
    "black = pioneer[pioneer['color_identity'].astype(str).str.contains(\"B\")]\n",
    "card_type_breakdown_b = black.groupby('set_name').size().reset_index(name = 'commons') # number of commons\n",
    "\n",
    "card_types = ['Creature', 'Enchantment', 'Instant', 'Sorcery', 'Artifact']\n",
    "for card_type in card_types:\n",
    "    new_df = black[black['type_line'].str.contains(card_type)].groupby('set_name').size().reset_index(name = card_type + \"s\")\n",
    "    card_type_breakdown_b = card_type_breakdown_b.merge(new_df, how = 'left', on = 'set_name')\n",
    "\n",
    "print('\\nCard Type Breakdown For Black\\n')\n",
    "card_type_breakdown_b = card_type_breakdown_b.replace(np.nan, 0).set_index('set_name')\n",
    "ctypes_ratio_b = card_type_breakdown_b.iloc[:, 1:].div(card_type_breakdown_b.commons, axis = 0)\n",
    "ratio_sums = [row.Creatures + row.Enchantments + row.Instants + row.Sorcerys + row.Artifacts for index, row in ctypes_ratio_u.iterrows()]\n",
    "ctypes_ratio_b['ratio_sums'] = ratio_sums\n",
    "ctypes_ratio_b.head()"
   ]
  },
  {
   "cell_type": "markdown",
   "metadata": {
    "id": "nO5BuBuUnec9"
   },
   "source": [
    "### Creatures"
   ]
  },
  {
   "cell_type": "code",
   "execution_count": null,
   "metadata": {
    "colab": {
     "base_uri": "https://localhost:8080/",
     "height": 350
    },
    "id": "PFPI6uqWYXHV",
    "outputId": "161264c9-9d84-4549-f403-162f773ce811"
   },
   "outputs": [],
   "source": [
    "# black creatures df\n",
    "black_creatures = black[black['type_line'].str.contains('Creature')]\n",
    "creature_curve_df_b = black_creatures.groupby(['set_name', 'cmc']).size().reset_index(name = 'cards')\n",
    "creature_curve_df_b = creature_curve_df_b.groupby('cmc').cards.agg(['mean', 'min', 'max', 'std']).reset_index()\n",
    "creature_curve_df_b['count_ratio'] = creature_curve_df_b['mean'] / creature_curve_df_b['mean'].sum()\n",
    "\n",
    "# black creature curve\n",
    "plt.figure(figsize = (8,5))\n",
    "plt.bar(x = creature_curve_df_b['cmc'], height = creature_curve_df_b['mean'], yerr = creature_curve_df_b['std'],\n",
    "        color = 'dimgray', edgecolor = 'black')\n",
    "plt.ylabel('Average Card Count')\n",
    "plt.xlabel('Mana Value')\n",
    "plt.title('Black: Average Creature Curve');"
   ]
  },
  {
   "cell_type": "code",
   "execution_count": null,
   "metadata": {
    "colab": {
     "base_uri": "https://localhost:8080/"
    },
    "id": "KbkasZ1mqjSN",
    "outputId": "371d9747-8614-400d-d4fc-94c3db9848f4"
   },
   "outputs": [],
   "source": [
    "creature_ratio_b = ctypes_ratio_b['Creatures'].mean()\n",
    "print(\"Average percent of black cards which are creatures:\", creature_ratio_b, \"\\n\")\n",
    "\n",
    "for index, row in creature_curve_df_b.iterrows():\n",
    "  print(\"\\tRatio of\", row['cmc'], \"drops:\", row['count_ratio'])"
   ]
  },
  {
   "cell_type": "markdown",
   "metadata": {
    "id": "aEcEjumnYXHV"
   },
   "source": [
    "## Red"
   ]
  },
  {
   "cell_type": "code",
   "execution_count": null,
   "metadata": {
    "colab": {
     "base_uri": "https://localhost:8080/",
     "height": 286
    },
    "id": "Fq5qiDPbYXHW",
    "outputId": "00fc91ea-72f4-4202-d3d6-e0ac0489fa34"
   },
   "outputs": [],
   "source": [
    "red = pioneer[pioneer['color_identity'].astype(str).str.contains(\"R\")]\n",
    "card_type_breakdown_r = red.groupby('set_name').size().reset_index(name = 'commons') # number of commons\n",
    "\n",
    "card_types = ['Creature', 'Enchantment', 'Instant', 'Sorcery', 'Artifact']\n",
    "for card_type in card_types:\n",
    "    new_df = red[red['type_line'].str.contains(card_type)].groupby('set_name').size().reset_index(name = card_type + \"s\")\n",
    "    card_type_breakdown_r = card_type_breakdown_r.merge(new_df, how = 'left', on = 'set_name')\n",
    "\n",
    "print('\\nCard Type Breakdown For Red\\n')\n",
    "card_type_breakdown_r = card_type_breakdown_r.replace(np.nan, 0).set_index('set_name')\n",
    "ctypes_ratio_r = card_type_breakdown_r.iloc[:, 1:].div(card_type_breakdown_r.commons, axis = 0)\n",
    "ratio_sums = [row.Creatures + row.Enchantments + row.Instants + row.Sorcerys + row.Artifacts for index, row in ctypes_ratio_u.iterrows()]\n",
    "ctypes_ratio_r['ratio_sums'] = ratio_sums\n",
    "ctypes_ratio_r.head()"
   ]
  },
  {
   "cell_type": "markdown",
   "metadata": {
    "id": "0pljaiWbq7fF"
   },
   "source": [
    "### Creatures"
   ]
  },
  {
   "cell_type": "code",
   "execution_count": null,
   "metadata": {
    "colab": {
     "base_uri": "https://localhost:8080/",
     "height": 350
    },
    "id": "cxaD91tbq9Eg",
    "outputId": "2d873b66-b574-4698-9b87-7b41e7d231a6"
   },
   "outputs": [],
   "source": [
    "# red creatures df\n",
    "red_creatures = red[red['type_line'].str.contains('Creature')]\n",
    "creature_curve_df_r = red_creatures.groupby(['set_name', 'cmc']).size().reset_index(name = 'cards')\n",
    "creature_curve_df_r = creature_curve_df_r.groupby('cmc').cards.agg(['mean', 'min', 'max', 'std']).reset_index()\n",
    "creature_curve_df_r['count_ratio'] = creature_curve_df_r['mean'] / creature_curve_df_r['mean'].sum()\n",
    "\n",
    "# red creature curve\n",
    "plt.figure(figsize = (8,5))\n",
    "plt.bar(x = creature_curve_df_r['cmc'], height = creature_curve_df_r['mean'], yerr = creature_curve_df_r['std'],\n",
    "        color = 'crimson', edgecolor = 'black')\n",
    "plt.ylabel('Average Card Count')\n",
    "plt.xlabel('Mana Value')\n",
    "plt.title('Red: Average Creature Curve');"
   ]
  },
  {
   "cell_type": "code",
   "execution_count": null,
   "metadata": {
    "colab": {
     "base_uri": "https://localhost:8080/"
    },
    "id": "0Mb3f4aOs6Fa",
    "outputId": "9a99f17f-5be2-4b32-c912-23f853012732"
   },
   "outputs": [],
   "source": [
    "creature_ratio_r = ctypes_ratio_r['Creatures'].mean()\n",
    "print(\"Average percent of red cards which are creatures:\", creature_ratio_r, \"\\n\")\n",
    "\n",
    "for index, row in creature_curve_df_r.iterrows():\n",
    "  print(\"\\tRatio of\", row['cmc'], \"drops:\", row['count_ratio'])"
   ]
  },
  {
   "cell_type": "markdown",
   "metadata": {
    "id": "nThDiMYvYXHW"
   },
   "source": [
    "## Green"
   ]
  },
  {
   "cell_type": "code",
   "execution_count": null,
   "metadata": {
    "colab": {
     "base_uri": "https://localhost:8080/",
     "height": 286
    },
    "id": "4_XsrTArYXHW",
    "outputId": "a1f6b8a6-a588-4581-a3d0-b60786bd3aad"
   },
   "outputs": [],
   "source": [
    "green = pioneer[pioneer['color_identity'].astype(str).str.contains(\"G\")]\n",
    "card_type_breakdown_g = green.groupby('set_name').size().reset_index(name = 'commons') # number of commons\n",
    "\n",
    "card_types = ['Creature', 'Enchantment', 'Instant', 'Sorcery', 'Artifact']\n",
    "for card_type in card_types:\n",
    "    new_df = green[green['type_line'].str.contains(card_type)].groupby('set_name').size().reset_index(name = card_type + \"s\")\n",
    "    card_type_breakdown_g = card_type_breakdown_g.merge(new_df, how = 'left', on = 'set_name')\n",
    "\n",
    "print('\\nCard Type Breakdown For Green\\n')\n",
    "card_type_breakdown_g = card_type_breakdown_g.replace(np.nan, 0).set_index('set_name')\n",
    "ctypes_ratio_g = card_type_breakdown_g.iloc[:, 1:].div(card_type_breakdown_g.commons, axis = 0)\n",
    "ratio_sums = [row.Creatures + row.Enchantments + row.Instants + row.Sorcerys + row.Artifacts for index, row in ctypes_ratio_u.iterrows()]\n",
    "ctypes_ratio_g['ratio_sums'] = ratio_sums\n",
    "ctypes_ratio_g.head()"
   ]
  },
  {
   "cell_type": "markdown",
   "metadata": {
    "id": "BNqKnzdhtnfc"
   },
   "source": [
    "### Creatures"
   ]
  },
  {
   "cell_type": "code",
   "execution_count": null,
   "metadata": {
    "colab": {
     "base_uri": "https://localhost:8080/",
     "height": 350
    },
    "id": "FhnZ4vrUto2D",
    "outputId": "a8fb54d2-132d-4016-8c98-8d2477b82efa"
   },
   "outputs": [],
   "source": [
    "# green creatures df\n",
    "green_creatures = green[green['type_line'].str.contains('Creature')]\n",
    "creature_curve_df_g = green_creatures.groupby(['set_name', 'cmc']).size().reset_index(name = 'cards')\n",
    "creature_curve_df_g = creature_curve_df_g.groupby('cmc').cards.agg(['mean', 'min', 'max', 'std']).reset_index()\n",
    "creature_curve_df_g['count_ratio'] = creature_curve_df_g['mean'] / creature_curve_df_g['mean'].sum()\n",
    "\n",
    "# green creature curve\n",
    "plt.figure(figsize = (8,5))\n",
    "plt.bar(x = creature_curve_df_g['cmc'], height = creature_curve_df_g['mean'], yerr = creature_curve_df_g['std'],\n",
    "        color = 'forestgreen', edgecolor = 'black')\n",
    "plt.ylabel('Average Card Count')\n",
    "plt.xlabel('Mana Value')\n",
    "plt.title('Green: Average Creature Curve');"
   ]
  },
  {
   "cell_type": "code",
   "execution_count": null,
   "metadata": {
    "colab": {
     "base_uri": "https://localhost:8080/"
    },
    "id": "uJFI4BZNuWiL",
    "outputId": "20d5334f-a03d-4520-9999-7827dc1f9dc0"
   },
   "outputs": [],
   "source": [
    "creature_ratio_g = ctypes_ratio_g['Creatures'].mean()\n",
    "print(\"Average percent of green cards which are creatures:\", creature_ratio_g, \"\\n\")\n",
    "\n",
    "for index, row in creature_curve_df_g.iterrows():\n",
    "  print(\"\\tRatio of\", row['cmc'], \"drops:\", row['count_ratio'])"
   ]
  }
 ],
 "metadata": {
  "colab": {
   "collapsed_sections": [],
   "name": "scryfall_cube_structure.ipynb",
   "provenance": [],
   "toc_visible": true
  },
  "kernelspec": {
   "display_name": "Python 3",
   "language": "python",
   "name": "python3"
  },
  "language_info": {
   "codemirror_mode": {
    "name": "ipython",
    "version": 3
   },
   "file_extension": ".py",
   "mimetype": "text/x-python",
   "name": "python",
   "nbconvert_exporter": "python",
   "pygments_lexer": "ipython3",
   "version": "3.7.7"
  }
 },
 "nbformat": 4,
 "nbformat_minor": 4
}
