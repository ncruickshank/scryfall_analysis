{
 "cells": [
  {
   "cell_type": "markdown",
   "metadata": {
    "id": "OrNL_-WyYXHH"
   },
   "source": [
    "# Scryfall Analysis - Cube Structure"
   ]
  },
  {
   "cell_type": "markdown",
   "metadata": {
    "id": "4ntd2ooKYXHK"
   },
   "source": [
    "__Objective:__ Connect to publicly available data on Scryfall through their REST API to identify patterns set design."
   ]
  },
  {
   "cell_type": "code",
   "execution_count": 1,
   "metadata": {
    "colab": {
     "base_uri": "https://localhost:8080/"
    },
    "id": "1qLRIynwYXHL",
    "outputId": "4ba4fa72-6d0c-44b4-bbcd-8169fa36bdb8"
   },
   "outputs": [
    {
     "name": "stdout",
     "output_type": "stream",
     "text": [
      "Script last ran on 06/14/2021\n"
     ]
    }
   ],
   "source": [
    "import datetime\n",
    "print(\"Script last ran on\", datetime.datetime.today().strftime(\"%m/%d/%Y\"))"
   ]
  },
  {
   "cell_type": "code",
   "execution_count": 2,
   "metadata": {
    "colab": {
     "base_uri": "https://localhost:8080/"
    },
    "id": "i6P-b5CDYXHM",
    "outputId": "eaf96d5c-0a38-4756-b734-7aeefa815f8e"
   },
   "outputs": [],
   "source": [
    "# libraries\n",
    "import json\n",
    "import numpy as np\n",
    "import pandas as pd\n",
    "from matplotlib import pyplot as plt\n",
    "%matplotlib inline\n",
    "import re\n",
    "import requests"
   ]
  },
  {
   "cell_type": "code",
   "execution_count": 5,
   "metadata": {
    "colab": {
     "base_uri": "https://localhost:8080/",
     "height": 717
    },
    "id": "wEunvH0fYXHN",
    "outputId": "d826e8ee-b66a-4ea2-fe21-9765a13e0d87"
   },
   "outputs": [
    {
     "data": {
      "text/html": [
       "<div>\n",
       "<style scoped>\n",
       "    .dataframe tbody tr th:only-of-type {\n",
       "        vertical-align: middle;\n",
       "    }\n",
       "\n",
       "    .dataframe tbody tr th {\n",
       "        vertical-align: top;\n",
       "    }\n",
       "\n",
       "    .dataframe thead th {\n",
       "        text-align: right;\n",
       "    }\n",
       "</style>\n",
       "<table border=\"1\" class=\"dataframe\">\n",
       "  <thead>\n",
       "    <tr style=\"text-align: right;\">\n",
       "      <th></th>\n",
       "      <th>Unnamed: 0</th>\n",
       "      <th>name</th>\n",
       "      <th>mana_cost</th>\n",
       "      <th>cmc</th>\n",
       "      <th>type_line</th>\n",
       "      <th>oracle_text</th>\n",
       "      <th>power</th>\n",
       "      <th>toughness</th>\n",
       "      <th>colors</th>\n",
       "      <th>color_identity</th>\n",
       "      <th>keywords</th>\n",
       "      <th>set</th>\n",
       "      <th>set_name</th>\n",
       "      <th>rarity</th>\n",
       "      <th>edhrec_rank</th>\n",
       "      <th>produced_mana</th>\n",
       "      <th>printed_name</th>\n",
       "      <th>printed_text</th>\n",
       "      <th>legalities</th>\n",
       "      <th>lang</th>\n",
       "    </tr>\n",
       "  </thead>\n",
       "  <tbody>\n",
       "    <tr>\n",
       "      <th>0</th>\n",
       "      <td>3</td>\n",
       "      <td>Siren Lookout</td>\n",
       "      <td>{2}{U}</td>\n",
       "      <td>3.0</td>\n",
       "      <td>Creature — Siren Pirate</td>\n",
       "      <td>Flying\\nWhen Siren Lookout enters the battlefi...</td>\n",
       "      <td>1.0</td>\n",
       "      <td>2.0</td>\n",
       "      <td>['U']</td>\n",
       "      <td>['U']</td>\n",
       "      <td>['Flying', 'Explore']</td>\n",
       "      <td>xln</td>\n",
       "      <td>Ixalan</td>\n",
       "      <td>common</td>\n",
       "      <td>9491.0</td>\n",
       "      <td>NaN</td>\n",
       "      <td>NaN</td>\n",
       "      <td>NaN</td>\n",
       "      <td>{'standard': 'not_legal', 'future': 'not_legal...</td>\n",
       "      <td>en</td>\n",
       "    </tr>\n",
       "    <tr>\n",
       "      <th>1</th>\n",
       "      <td>21</td>\n",
       "      <td>Charge</td>\n",
       "      <td>{W}</td>\n",
       "      <td>1.0</td>\n",
       "      <td>Instant</td>\n",
       "      <td>Creatures you control get +1/+1 until end of t...</td>\n",
       "      <td>NaN</td>\n",
       "      <td>NaN</td>\n",
       "      <td>['W']</td>\n",
       "      <td>['W']</td>\n",
       "      <td>[]</td>\n",
       "      <td>dom</td>\n",
       "      <td>Dominaria</td>\n",
       "      <td>common</td>\n",
       "      <td>11723.0</td>\n",
       "      <td>NaN</td>\n",
       "      <td>NaN</td>\n",
       "      <td>NaN</td>\n",
       "      <td>{'standard': 'not_legal', 'future': 'not_legal...</td>\n",
       "      <td>en</td>\n",
       "    </tr>\n",
       "    <tr>\n",
       "      <th>2</th>\n",
       "      <td>31</td>\n",
       "      <td>Destructive Tampering</td>\n",
       "      <td>{2}{R}</td>\n",
       "      <td>3.0</td>\n",
       "      <td>Sorcery</td>\n",
       "      <td>Choose one —\\n• Destroy target artifact.\\n• Cr...</td>\n",
       "      <td>NaN</td>\n",
       "      <td>NaN</td>\n",
       "      <td>['R']</td>\n",
       "      <td>['R']</td>\n",
       "      <td>[]</td>\n",
       "      <td>aer</td>\n",
       "      <td>Aether Revolt</td>\n",
       "      <td>common</td>\n",
       "      <td>10439.0</td>\n",
       "      <td>NaN</td>\n",
       "      <td>NaN</td>\n",
       "      <td>NaN</td>\n",
       "      <td>{'standard': 'legal', 'future': 'legal', 'hist...</td>\n",
       "      <td>en</td>\n",
       "    </tr>\n",
       "    <tr>\n",
       "      <th>3</th>\n",
       "      <td>58</td>\n",
       "      <td>Shock</td>\n",
       "      <td>{R}</td>\n",
       "      <td>1.0</td>\n",
       "      <td>Instant</td>\n",
       "      <td>Shock deals 2 damage to any target.</td>\n",
       "      <td>NaN</td>\n",
       "      <td>NaN</td>\n",
       "      <td>['R']</td>\n",
       "      <td>['R']</td>\n",
       "      <td>[]</td>\n",
       "      <td>aer</td>\n",
       "      <td>Aether Revolt</td>\n",
       "      <td>common</td>\n",
       "      <td>2878.0</td>\n",
       "      <td>NaN</td>\n",
       "      <td>NaN</td>\n",
       "      <td>NaN</td>\n",
       "      <td>{'standard': 'legal', 'future': 'legal', 'hist...</td>\n",
       "      <td>en</td>\n",
       "    </tr>\n",
       "    <tr>\n",
       "      <th>4</th>\n",
       "      <td>74</td>\n",
       "      <td>Initiate's Companion</td>\n",
       "      <td>{1}{G}</td>\n",
       "      <td>2.0</td>\n",
       "      <td>Creature — Cat</td>\n",
       "      <td>Whenever Initiate's Companion deals combat dam...</td>\n",
       "      <td>3.0</td>\n",
       "      <td>1.0</td>\n",
       "      <td>['G']</td>\n",
       "      <td>['G']</td>\n",
       "      <td>[]</td>\n",
       "      <td>akh</td>\n",
       "      <td>Amonkhet</td>\n",
       "      <td>common</td>\n",
       "      <td>9563.0</td>\n",
       "      <td>NaN</td>\n",
       "      <td>NaN</td>\n",
       "      <td>NaN</td>\n",
       "      <td>{'standard': 'not_legal', 'future': 'not_legal...</td>\n",
       "      <td>en</td>\n",
       "    </tr>\n",
       "  </tbody>\n",
       "</table>\n",
       "</div>"
      ],
      "text/plain": [
       "   Unnamed: 0                   name mana_cost  cmc                type_line  \\\n",
       "0           3          Siren Lookout    {2}{U}  3.0  Creature — Siren Pirate   \n",
       "1          21                 Charge       {W}  1.0                  Instant   \n",
       "2          31  Destructive Tampering    {2}{R}  3.0                  Sorcery   \n",
       "3          58                  Shock       {R}  1.0                  Instant   \n",
       "4          74   Initiate's Companion    {1}{G}  2.0           Creature — Cat   \n",
       "\n",
       "                                         oracle_text  power  toughness colors  \\\n",
       "0  Flying\\nWhen Siren Lookout enters the battlefi...    1.0        2.0  ['U']   \n",
       "1  Creatures you control get +1/+1 until end of t...    NaN        NaN  ['W']   \n",
       "2  Choose one —\\n• Destroy target artifact.\\n• Cr...    NaN        NaN  ['R']   \n",
       "3                Shock deals 2 damage to any target.    NaN        NaN  ['R']   \n",
       "4  Whenever Initiate's Companion deals combat dam...    3.0        1.0  ['G']   \n",
       "\n",
       "  color_identity               keywords  set       set_name  rarity  \\\n",
       "0          ['U']  ['Flying', 'Explore']  xln         Ixalan  common   \n",
       "1          ['W']                     []  dom      Dominaria  common   \n",
       "2          ['R']                     []  aer  Aether Revolt  common   \n",
       "3          ['R']                     []  aer  Aether Revolt  common   \n",
       "4          ['G']                     []  akh       Amonkhet  common   \n",
       "\n",
       "   edhrec_rank produced_mana  printed_name  printed_text  \\\n",
       "0       9491.0           NaN           NaN           NaN   \n",
       "1      11723.0           NaN           NaN           NaN   \n",
       "2      10439.0           NaN           NaN           NaN   \n",
       "3       2878.0           NaN           NaN           NaN   \n",
       "4       9563.0           NaN           NaN           NaN   \n",
       "\n",
       "                                          legalities lang  \n",
       "0  {'standard': 'not_legal', 'future': 'not_legal...   en  \n",
       "1  {'standard': 'not_legal', 'future': 'not_legal...   en  \n",
       "2  {'standard': 'legal', 'future': 'legal', 'hist...   en  \n",
       "3  {'standard': 'legal', 'future': 'legal', 'hist...   en  \n",
       "4  {'standard': 'not_legal', 'future': 'not_legal...   en  "
      ]
     },
     "execution_count": 5,
     "metadata": {},
     "output_type": "execute_result"
    }
   ],
   "source": [
    "pioneer = pd.read_csv('scryfall_pioneer_20210614.csv')\n",
    "pioneer.head()"
   ]
  },
  {
   "cell_type": "code",
   "execution_count": 62,
   "metadata": {
    "colab": {
     "base_uri": "https://localhost:8080/"
    },
    "id": "abKP-QEpYXHO",
    "outputId": "39480b48-369b-4a9c-884e-2b78e85dc92c"
   },
   "outputs": [
    {
     "data": {
      "text/html": [
       "<div>\n",
       "<style scoped>\n",
       "    .dataframe tbody tr th:only-of-type {\n",
       "        vertical-align: middle;\n",
       "    }\n",
       "\n",
       "    .dataframe tbody tr th {\n",
       "        vertical-align: top;\n",
       "    }\n",
       "\n",
       "    .dataframe thead th {\n",
       "        text-align: right;\n",
       "    }\n",
       "</style>\n",
       "<table border=\"1\" class=\"dataframe\">\n",
       "  <thead>\n",
       "    <tr style=\"text-align: right;\">\n",
       "      <th></th>\n",
       "      <th>Unnamed: 0</th>\n",
       "      <th>name</th>\n",
       "      <th>mana_cost</th>\n",
       "      <th>cmc</th>\n",
       "      <th>type_line</th>\n",
       "      <th>oracle_text</th>\n",
       "      <th>power</th>\n",
       "      <th>toughness</th>\n",
       "      <th>colors</th>\n",
       "      <th>color_identity</th>\n",
       "      <th>...</th>\n",
       "      <th>rarity</th>\n",
       "      <th>edhrec_rank</th>\n",
       "      <th>produced_mana</th>\n",
       "      <th>printed_name</th>\n",
       "      <th>printed_text</th>\n",
       "      <th>legalities</th>\n",
       "      <th>lang</th>\n",
       "      <th>evasion</th>\n",
       "      <th>removal</th>\n",
       "      <th>combat_trick</th>\n",
       "    </tr>\n",
       "  </thead>\n",
       "  <tbody>\n",
       "    <tr>\n",
       "      <th>0</th>\n",
       "      <td>3</td>\n",
       "      <td>Siren Lookout</td>\n",
       "      <td>{2}{U}</td>\n",
       "      <td>3.0</td>\n",
       "      <td>Creature — Siren Pirate</td>\n",
       "      <td>Flying\\nWhen Siren Lookout enters the battlefi...</td>\n",
       "      <td>1.0</td>\n",
       "      <td>2.0</td>\n",
       "      <td>['U']</td>\n",
       "      <td>['U']</td>\n",
       "      <td>...</td>\n",
       "      <td>common</td>\n",
       "      <td>9491.0</td>\n",
       "      <td>NaN</td>\n",
       "      <td>NaN</td>\n",
       "      <td>NaN</td>\n",
       "      <td>{'standard': 'not_legal', 'future': 'not_legal...</td>\n",
       "      <td>en</td>\n",
       "      <td>True</td>\n",
       "      <td>False</td>\n",
       "      <td>False</td>\n",
       "    </tr>\n",
       "    <tr>\n",
       "      <th>1</th>\n",
       "      <td>21</td>\n",
       "      <td>Charge</td>\n",
       "      <td>{W}</td>\n",
       "      <td>1.0</td>\n",
       "      <td>Instant</td>\n",
       "      <td>Creatures you control get +1/+1 until end of t...</td>\n",
       "      <td>NaN</td>\n",
       "      <td>NaN</td>\n",
       "      <td>['W']</td>\n",
       "      <td>['W']</td>\n",
       "      <td>...</td>\n",
       "      <td>common</td>\n",
       "      <td>11723.0</td>\n",
       "      <td>NaN</td>\n",
       "      <td>NaN</td>\n",
       "      <td>NaN</td>\n",
       "      <td>{'standard': 'not_legal', 'future': 'not_legal...</td>\n",
       "      <td>en</td>\n",
       "      <td>False</td>\n",
       "      <td>False</td>\n",
       "      <td>True</td>\n",
       "    </tr>\n",
       "    <tr>\n",
       "      <th>2</th>\n",
       "      <td>31</td>\n",
       "      <td>Destructive Tampering</td>\n",
       "      <td>{2}{R}</td>\n",
       "      <td>3.0</td>\n",
       "      <td>Sorcery</td>\n",
       "      <td>Choose one —\\n• Destroy target artifact.\\n• Cr...</td>\n",
       "      <td>NaN</td>\n",
       "      <td>NaN</td>\n",
       "      <td>['R']</td>\n",
       "      <td>['R']</td>\n",
       "      <td>...</td>\n",
       "      <td>common</td>\n",
       "      <td>10439.0</td>\n",
       "      <td>NaN</td>\n",
       "      <td>NaN</td>\n",
       "      <td>NaN</td>\n",
       "      <td>{'standard': 'legal', 'future': 'legal', 'hist...</td>\n",
       "      <td>en</td>\n",
       "      <td>False</td>\n",
       "      <td>False</td>\n",
       "      <td>False</td>\n",
       "    </tr>\n",
       "    <tr>\n",
       "      <th>3</th>\n",
       "      <td>58</td>\n",
       "      <td>Shock</td>\n",
       "      <td>{R}</td>\n",
       "      <td>1.0</td>\n",
       "      <td>Instant</td>\n",
       "      <td>Shock deals 2 damage to any target.</td>\n",
       "      <td>NaN</td>\n",
       "      <td>NaN</td>\n",
       "      <td>['R']</td>\n",
       "      <td>['R']</td>\n",
       "      <td>...</td>\n",
       "      <td>common</td>\n",
       "      <td>2878.0</td>\n",
       "      <td>NaN</td>\n",
       "      <td>NaN</td>\n",
       "      <td>NaN</td>\n",
       "      <td>{'standard': 'legal', 'future': 'legal', 'hist...</td>\n",
       "      <td>en</td>\n",
       "      <td>False</td>\n",
       "      <td>True</td>\n",
       "      <td>False</td>\n",
       "    </tr>\n",
       "    <tr>\n",
       "      <th>4</th>\n",
       "      <td>74</td>\n",
       "      <td>Initiate's Companion</td>\n",
       "      <td>{1}{G}</td>\n",
       "      <td>2.0</td>\n",
       "      <td>Creature — Cat</td>\n",
       "      <td>Whenever Initiate's Companion deals combat dam...</td>\n",
       "      <td>3.0</td>\n",
       "      <td>1.0</td>\n",
       "      <td>['G']</td>\n",
       "      <td>['G']</td>\n",
       "      <td>...</td>\n",
       "      <td>common</td>\n",
       "      <td>9563.0</td>\n",
       "      <td>NaN</td>\n",
       "      <td>NaN</td>\n",
       "      <td>NaN</td>\n",
       "      <td>{'standard': 'not_legal', 'future': 'not_legal...</td>\n",
       "      <td>en</td>\n",
       "      <td>False</td>\n",
       "      <td>False</td>\n",
       "      <td>True</td>\n",
       "    </tr>\n",
       "  </tbody>\n",
       "</table>\n",
       "<p>5 rows × 23 columns</p>\n",
       "</div>"
      ],
      "text/plain": [
       "   Unnamed: 0                   name mana_cost  cmc                type_line  \\\n",
       "0           3          Siren Lookout    {2}{U}  3.0  Creature — Siren Pirate   \n",
       "1          21                 Charge       {W}  1.0                  Instant   \n",
       "2          31  Destructive Tampering    {2}{R}  3.0                  Sorcery   \n",
       "3          58                  Shock       {R}  1.0                  Instant   \n",
       "4          74   Initiate's Companion    {1}{G}  2.0           Creature — Cat   \n",
       "\n",
       "                                         oracle_text  power  toughness colors  \\\n",
       "0  Flying\\nWhen Siren Lookout enters the battlefi...    1.0        2.0  ['U']   \n",
       "1  Creatures you control get +1/+1 until end of t...    NaN        NaN  ['W']   \n",
       "2  Choose one —\\n• Destroy target artifact.\\n• Cr...    NaN        NaN  ['R']   \n",
       "3                Shock deals 2 damage to any target.    NaN        NaN  ['R']   \n",
       "4  Whenever Initiate's Companion deals combat dam...    3.0        1.0  ['G']   \n",
       "\n",
       "  color_identity  ...  rarity edhrec_rank produced_mana printed_name  \\\n",
       "0          ['U']  ...  common      9491.0           NaN          NaN   \n",
       "1          ['W']  ...  common     11723.0           NaN          NaN   \n",
       "2          ['R']  ...  common     10439.0           NaN          NaN   \n",
       "3          ['R']  ...  common      2878.0           NaN          NaN   \n",
       "4          ['G']  ...  common      9563.0           NaN          NaN   \n",
       "\n",
       "   printed_text                                         legalities  lang  \\\n",
       "0           NaN  {'standard': 'not_legal', 'future': 'not_legal...    en   \n",
       "1           NaN  {'standard': 'not_legal', 'future': 'not_legal...    en   \n",
       "2           NaN  {'standard': 'legal', 'future': 'legal', 'hist...    en   \n",
       "3           NaN  {'standard': 'legal', 'future': 'legal', 'hist...    en   \n",
       "4           NaN  {'standard': 'not_legal', 'future': 'not_legal...    en   \n",
       "\n",
       "   evasion removal combat_trick  \n",
       "0     True   False        False  \n",
       "1    False   False         True  \n",
       "2    False   False        False  \n",
       "3    False    True        False  \n",
       "4    False   False         True  \n",
       "\n",
       "[5 rows x 23 columns]"
      ]
     },
     "execution_count": 62,
     "metadata": {},
     "output_type": "execute_result"
    }
   ],
   "source": [
    "# tidy dataframe\n",
    "## evasion bool\n",
    "evasion_keywords = ['Flying', 'Trample', 'Menace',\n",
    "                    'Plainswalk', 'Islandwalk', 'Forestwalk', 'Mountainwalk', 'Swampwalk',\n",
    "                    'Skulk', 'Shadow', 'Fear', 'Intimidate']\n",
    "pioneer['evasion'] = pioneer['keywords'].apply(lambda x: bool(any(item in x for item in evasion_keywords)))\n",
    "\n",
    "## removal bool\n",
    "removal_regexes = [\n",
    "    # white removal\n",
    "    re.compile(r'enchanted (creature|permanent) can\\'t attack (?!until end of turn)'),\n",
    "    re.compile(r'exile target (?!card)'),\n",
    "    \n",
    "    # blue removal\n",
    "    re.compile(r'enchanted creature doesn\\'t untap'),\n",
    "    re.compile(r'return target (creature|nonland permanent) to its owner\\'s hand'),\n",
    "    re.compile(r'put target (creature|permanent)'),\n",
    "    \n",
    "    # black removal\n",
    "    re.compile(r'destroy target (creature|permanent)'),\n",
    "    re.compile(r'target (player|opponent) sacrifice'),\n",
    "    re.compile(r'(\\+|-)[0-9]*/-[1-9]* until end of turn'),\n",
    "    \n",
    "    # red removal\n",
    "    re.compile(r'deals [0-9]* damage'),\n",
    "    \n",
    "    # green removal\n",
    "    re.compile(r'deals damage equal'),\n",
    "    re.compile(r'target creature .* control(s)? fight')\n",
    "]\n",
    "\n",
    "pioneer['removal'] = pioneer['oracle_text'].astype(str).apply(lambda x: bool(any(regex.search(x.lower()) for regex in removal_regexes)))\n",
    "\n",
    "## combat trick bool\n",
    "combat_regexes = [\n",
    "    re.compile(r'target creature .* gets (\\+|-)[0-9]*/(\\+|-)[0-9]*'),\n",
    "    re.compile(r'tap target creature'),\n",
    "    re.compile(r'tap up to (two|three|four) target creature'),\n",
    "    re.compile(r'target creature can\\'t block this turn'),\n",
    "    re.compile(r'creatures can\\'t block'),\n",
    "    re.compile(r'target creature blocks this turn if able'),\n",
    "    re.compile(r'target creature gains .* until end of turn'),\n",
    "    re.compile(r'\\+1/\\+1 (counter|counters) on target creature'),\n",
    "    re.compile(r'untap target creature'),\n",
    "    re.compile(r'creatures you control .* until end of turn')\n",
    "]\n",
    "\n",
    "pioneer['combat_trick'] = pioneer['oracle_text'].astype(str).apply(lambda x: bool(any(regex.search(x.lower()) for regex in combat_regexes)))\n",
    "\n",
    "pioneer.head()"
   ]
  },
  {
   "cell_type": "markdown",
   "metadata": {
    "id": "CyRCgiADYXHO"
   },
   "source": [
    "## Summary Statistics by Set"
   ]
  },
  {
   "cell_type": "code",
   "execution_count": 63,
   "metadata": {
    "colab": {
     "base_uri": "https://localhost:8080/",
     "height": 1000
    },
    "id": "vXyMJoZfYXHP",
    "outputId": "4be25981-c8da-4fac-fdd3-7366f148d9cc"
   },
   "outputs": [
    {
     "name": "stdout",
     "output_type": "stream",
     "text": [
      "\n",
      "Card Type Breakdown\n",
      "\n"
     ]
    },
    {
     "data": {
      "text/html": [
       "<div>\n",
       "<style scoped>\n",
       "    .dataframe tbody tr th:only-of-type {\n",
       "        vertical-align: middle;\n",
       "    }\n",
       "\n",
       "    .dataframe tbody tr th {\n",
       "        vertical-align: top;\n",
       "    }\n",
       "\n",
       "    .dataframe thead th {\n",
       "        text-align: right;\n",
       "    }\n",
       "</style>\n",
       "<table border=\"1\" class=\"dataframe\">\n",
       "  <thead>\n",
       "    <tr style=\"text-align: right;\">\n",
       "      <th></th>\n",
       "      <th>set_name</th>\n",
       "      <th>commons</th>\n",
       "      <th>Creatures</th>\n",
       "      <th>Enchantments</th>\n",
       "      <th>Instants</th>\n",
       "      <th>Sorcerys</th>\n",
       "      <th>Artifacts</th>\n",
       "    </tr>\n",
       "  </thead>\n",
       "  <tbody>\n",
       "    <tr>\n",
       "      <th>0</th>\n",
       "      <td>Aether Revolt</td>\n",
       "      <td>75</td>\n",
       "      <td>40</td>\n",
       "      <td>4.0</td>\n",
       "      <td>12</td>\n",
       "      <td>8</td>\n",
       "      <td>21.0</td>\n",
       "    </tr>\n",
       "    <tr>\n",
       "      <th>1</th>\n",
       "      <td>Amonkhet</td>\n",
       "      <td>99</td>\n",
       "      <td>55</td>\n",
       "      <td>9.0</td>\n",
       "      <td>24</td>\n",
       "      <td>9</td>\n",
       "      <td>2.0</td>\n",
       "    </tr>\n",
       "    <tr>\n",
       "      <th>2</th>\n",
       "      <td>Battle for Zendikar</td>\n",
       "      <td>95</td>\n",
       "      <td>55</td>\n",
       "      <td>3.0</td>\n",
       "      <td>21</td>\n",
       "      <td>15</td>\n",
       "      <td>1.0</td>\n",
       "    </tr>\n",
       "    <tr>\n",
       "      <th>3</th>\n",
       "      <td>Born of the Gods</td>\n",
       "      <td>60</td>\n",
       "      <td>32</td>\n",
       "      <td>14.0</td>\n",
       "      <td>12</td>\n",
       "      <td>7</td>\n",
       "      <td>0.0</td>\n",
       "    </tr>\n",
       "    <tr>\n",
       "      <th>4</th>\n",
       "      <td>Core Set 2019</td>\n",
       "      <td>113</td>\n",
       "      <td>66</td>\n",
       "      <td>7.0</td>\n",
       "      <td>23</td>\n",
       "      <td>13</td>\n",
       "      <td>7.0</td>\n",
       "    </tr>\n",
       "    <tr>\n",
       "      <th>5</th>\n",
       "      <td>Core Set 2020</td>\n",
       "      <td>141</td>\n",
       "      <td>90</td>\n",
       "      <td>11.0</td>\n",
       "      <td>22</td>\n",
       "      <td>15</td>\n",
       "      <td>6.0</td>\n",
       "    </tr>\n",
       "    <tr>\n",
       "      <th>6</th>\n",
       "      <td>Dominaria</td>\n",
       "      <td>103</td>\n",
       "      <td>56</td>\n",
       "      <td>5.0</td>\n",
       "      <td>24</td>\n",
       "      <td>13</td>\n",
       "      <td>11.0</td>\n",
       "    </tr>\n",
       "    <tr>\n",
       "      <th>7</th>\n",
       "      <td>Dragon's Maze</td>\n",
       "      <td>60</td>\n",
       "      <td>30</td>\n",
       "      <td>2.0</td>\n",
       "      <td>8</td>\n",
       "      <td>10</td>\n",
       "      <td>10.0</td>\n",
       "    </tr>\n",
       "    <tr>\n",
       "      <th>8</th>\n",
       "      <td>Dragons of Tarkir</td>\n",
       "      <td>100</td>\n",
       "      <td>56</td>\n",
       "      <td>5.0</td>\n",
       "      <td>25</td>\n",
       "      <td>12</td>\n",
       "      <td>5.0</td>\n",
       "    </tr>\n",
       "    <tr>\n",
       "      <th>9</th>\n",
       "      <td>Eldritch Moon</td>\n",
       "      <td>75</td>\n",
       "      <td>40</td>\n",
       "      <td>7.0</td>\n",
       "      <td>13</td>\n",
       "      <td>12</td>\n",
       "      <td>4.0</td>\n",
       "    </tr>\n",
       "    <tr>\n",
       "      <th>10</th>\n",
       "      <td>Fate Reforged</td>\n",
       "      <td>60</td>\n",
       "      <td>28</td>\n",
       "      <td>6.0</td>\n",
       "      <td>18</td>\n",
       "      <td>8</td>\n",
       "      <td>0.0</td>\n",
       "    </tr>\n",
       "    <tr>\n",
       "      <th>11</th>\n",
       "      <td>Gatecrash</td>\n",
       "      <td>96</td>\n",
       "      <td>49</td>\n",
       "      <td>10.0</td>\n",
       "      <td>22</td>\n",
       "      <td>11</td>\n",
       "      <td>6.0</td>\n",
       "    </tr>\n",
       "    <tr>\n",
       "      <th>12</th>\n",
       "      <td>Guilds of Ravnica</td>\n",
       "      <td>102</td>\n",
       "      <td>60</td>\n",
       "      <td>6.0</td>\n",
       "      <td>16</td>\n",
       "      <td>15</td>\n",
       "      <td>5.0</td>\n",
       "    </tr>\n",
       "    <tr>\n",
       "      <th>13</th>\n",
       "      <td>Hour of Devastation</td>\n",
       "      <td>66</td>\n",
       "      <td>44</td>\n",
       "      <td>1.0</td>\n",
       "      <td>14</td>\n",
       "      <td>5</td>\n",
       "      <td>4.0</td>\n",
       "    </tr>\n",
       "    <tr>\n",
       "      <th>14</th>\n",
       "      <td>Ixalan</td>\n",
       "      <td>102</td>\n",
       "      <td>58</td>\n",
       "      <td>6.0</td>\n",
       "      <td>22</td>\n",
       "      <td>12</td>\n",
       "      <td>5.0</td>\n",
       "    </tr>\n",
       "    <tr>\n",
       "      <th>15</th>\n",
       "      <td>Journey into Nyx</td>\n",
       "      <td>60</td>\n",
       "      <td>31</td>\n",
       "      <td>21.0</td>\n",
       "      <td>10</td>\n",
       "      <td>4</td>\n",
       "      <td>0.0</td>\n",
       "    </tr>\n",
       "    <tr>\n",
       "      <th>16</th>\n",
       "      <td>Kaladesh</td>\n",
       "      <td>105</td>\n",
       "      <td>57</td>\n",
       "      <td>3.0</td>\n",
       "      <td>20</td>\n",
       "      <td>14</td>\n",
       "      <td>21.0</td>\n",
       "    </tr>\n",
       "    <tr>\n",
       "      <th>17</th>\n",
       "      <td>Kaldheim</td>\n",
       "      <td>103</td>\n",
       "      <td>55</td>\n",
       "      <td>8.0</td>\n",
       "      <td>24</td>\n",
       "      <td>11</td>\n",
       "      <td>6.0</td>\n",
       "    </tr>\n",
       "    <tr>\n",
       "      <th>18</th>\n",
       "      <td>Khans of Tarkir</td>\n",
       "      <td>91</td>\n",
       "      <td>49</td>\n",
       "      <td>4.0</td>\n",
       "      <td>19</td>\n",
       "      <td>13</td>\n",
       "      <td>6.0</td>\n",
       "    </tr>\n",
       "    <tr>\n",
       "      <th>19</th>\n",
       "      <td>Magic 2014</td>\n",
       "      <td>101</td>\n",
       "      <td>53</td>\n",
       "      <td>11.0</td>\n",
       "      <td>21</td>\n",
       "      <td>16</td>\n",
       "      <td>1.0</td>\n",
       "    </tr>\n",
       "    <tr>\n",
       "      <th>20</th>\n",
       "      <td>Magic 2015</td>\n",
       "      <td>105</td>\n",
       "      <td>56</td>\n",
       "      <td>11.0</td>\n",
       "      <td>25</td>\n",
       "      <td>12</td>\n",
       "      <td>4.0</td>\n",
       "    </tr>\n",
       "    <tr>\n",
       "      <th>21</th>\n",
       "      <td>Magic Origins</td>\n",
       "      <td>107</td>\n",
       "      <td>58</td>\n",
       "      <td>8.0</td>\n",
       "      <td>25</td>\n",
       "      <td>14</td>\n",
       "      <td>5.0</td>\n",
       "    </tr>\n",
       "    <tr>\n",
       "      <th>22</th>\n",
       "      <td>Oath of the Gatewatch</td>\n",
       "      <td>65</td>\n",
       "      <td>35</td>\n",
       "      <td>3.0</td>\n",
       "      <td>19</td>\n",
       "      <td>6</td>\n",
       "      <td>3.0</td>\n",
       "    </tr>\n",
       "    <tr>\n",
       "      <th>23</th>\n",
       "      <td>Ravnica Allegiance</td>\n",
       "      <td>102</td>\n",
       "      <td>57</td>\n",
       "      <td>3.0</td>\n",
       "      <td>24</td>\n",
       "      <td>13</td>\n",
       "      <td>5.0</td>\n",
       "    </tr>\n",
       "    <tr>\n",
       "      <th>24</th>\n",
       "      <td>Return to Ravnica</td>\n",
       "      <td>95</td>\n",
       "      <td>51</td>\n",
       "      <td>8.0</td>\n",
       "      <td>27</td>\n",
       "      <td>9</td>\n",
       "      <td>0.0</td>\n",
       "    </tr>\n",
       "    <tr>\n",
       "      <th>25</th>\n",
       "      <td>Rivals of Ixalan</td>\n",
       "      <td>71</td>\n",
       "      <td>44</td>\n",
       "      <td>5.0</td>\n",
       "      <td>10</td>\n",
       "      <td>9</td>\n",
       "      <td>4.0</td>\n",
       "    </tr>\n",
       "    <tr>\n",
       "      <th>26</th>\n",
       "      <td>Shadows over Innistrad</td>\n",
       "      <td>104</td>\n",
       "      <td>54</td>\n",
       "      <td>10.0</td>\n",
       "      <td>19</td>\n",
       "      <td>18</td>\n",
       "      <td>4.0</td>\n",
       "    </tr>\n",
       "    <tr>\n",
       "      <th>27</th>\n",
       "      <td>Strixhaven: School of Mages</td>\n",
       "      <td>99</td>\n",
       "      <td>49</td>\n",
       "      <td>0.0</td>\n",
       "      <td>25</td>\n",
       "      <td>24</td>\n",
       "      <td>5.0</td>\n",
       "    </tr>\n",
       "    <tr>\n",
       "      <th>28</th>\n",
       "      <td>Theros</td>\n",
       "      <td>100</td>\n",
       "      <td>59</td>\n",
       "      <td>16.0</td>\n",
       "      <td>20</td>\n",
       "      <td>10</td>\n",
       "      <td>5.0</td>\n",
       "    </tr>\n",
       "    <tr>\n",
       "      <th>29</th>\n",
       "      <td>Theros Beyond Death</td>\n",
       "      <td>104</td>\n",
       "      <td>56</td>\n",
       "      <td>33.0</td>\n",
       "      <td>19</td>\n",
       "      <td>8</td>\n",
       "      <td>5.0</td>\n",
       "    </tr>\n",
       "    <tr>\n",
       "      <th>30</th>\n",
       "      <td>Throne of Eldraine</td>\n",
       "      <td>113</td>\n",
       "      <td>73</td>\n",
       "      <td>5.0</td>\n",
       "      <td>26</td>\n",
       "      <td>27</td>\n",
       "      <td>20.0</td>\n",
       "    </tr>\n",
       "    <tr>\n",
       "      <th>31</th>\n",
       "      <td>War of the Spark</td>\n",
       "      <td>102</td>\n",
       "      <td>59</td>\n",
       "      <td>3.0</td>\n",
       "      <td>25</td>\n",
       "      <td>13</td>\n",
       "      <td>5.0</td>\n",
       "    </tr>\n",
       "    <tr>\n",
       "      <th>32</th>\n",
       "      <td>Zendikar Rising</td>\n",
       "      <td>112</td>\n",
       "      <td>67</td>\n",
       "      <td>3.0</td>\n",
       "      <td>24</td>\n",
       "      <td>14</td>\n",
       "      <td>7.0</td>\n",
       "    </tr>\n",
       "  </tbody>\n",
       "</table>\n",
       "</div>"
      ],
      "text/plain": [
       "                       set_name  commons  Creatures  Enchantments  Instants  \\\n",
       "0                 Aether Revolt       75         40           4.0        12   \n",
       "1                      Amonkhet       99         55           9.0        24   \n",
       "2           Battle for Zendikar       95         55           3.0        21   \n",
       "3              Born of the Gods       60         32          14.0        12   \n",
       "4                 Core Set 2019      113         66           7.0        23   \n",
       "5                 Core Set 2020      141         90          11.0        22   \n",
       "6                     Dominaria      103         56           5.0        24   \n",
       "7                 Dragon's Maze       60         30           2.0         8   \n",
       "8             Dragons of Tarkir      100         56           5.0        25   \n",
       "9                 Eldritch Moon       75         40           7.0        13   \n",
       "10                Fate Reforged       60         28           6.0        18   \n",
       "11                    Gatecrash       96         49          10.0        22   \n",
       "12            Guilds of Ravnica      102         60           6.0        16   \n",
       "13          Hour of Devastation       66         44           1.0        14   \n",
       "14                       Ixalan      102         58           6.0        22   \n",
       "15             Journey into Nyx       60         31          21.0        10   \n",
       "16                     Kaladesh      105         57           3.0        20   \n",
       "17                     Kaldheim      103         55           8.0        24   \n",
       "18              Khans of Tarkir       91         49           4.0        19   \n",
       "19                   Magic 2014      101         53          11.0        21   \n",
       "20                   Magic 2015      105         56          11.0        25   \n",
       "21                Magic Origins      107         58           8.0        25   \n",
       "22        Oath of the Gatewatch       65         35           3.0        19   \n",
       "23           Ravnica Allegiance      102         57           3.0        24   \n",
       "24            Return to Ravnica       95         51           8.0        27   \n",
       "25             Rivals of Ixalan       71         44           5.0        10   \n",
       "26       Shadows over Innistrad      104         54          10.0        19   \n",
       "27  Strixhaven: School of Mages       99         49           0.0        25   \n",
       "28                       Theros      100         59          16.0        20   \n",
       "29          Theros Beyond Death      104         56          33.0        19   \n",
       "30           Throne of Eldraine      113         73           5.0        26   \n",
       "31             War of the Spark      102         59           3.0        25   \n",
       "32              Zendikar Rising      112         67           3.0        24   \n",
       "\n",
       "    Sorcerys  Artifacts  \n",
       "0          8       21.0  \n",
       "1          9        2.0  \n",
       "2         15        1.0  \n",
       "3          7        0.0  \n",
       "4         13        7.0  \n",
       "5         15        6.0  \n",
       "6         13       11.0  \n",
       "7         10       10.0  \n",
       "8         12        5.0  \n",
       "9         12        4.0  \n",
       "10         8        0.0  \n",
       "11        11        6.0  \n",
       "12        15        5.0  \n",
       "13         5        4.0  \n",
       "14        12        5.0  \n",
       "15         4        0.0  \n",
       "16        14       21.0  \n",
       "17        11        6.0  \n",
       "18        13        6.0  \n",
       "19        16        1.0  \n",
       "20        12        4.0  \n",
       "21        14        5.0  \n",
       "22         6        3.0  \n",
       "23        13        5.0  \n",
       "24         9        0.0  \n",
       "25         9        4.0  \n",
       "26        18        4.0  \n",
       "27        24        5.0  \n",
       "28        10        5.0  \n",
       "29         8        5.0  \n",
       "30        27       20.0  \n",
       "31        13        5.0  \n",
       "32        14        7.0  "
      ]
     },
     "execution_count": 63,
     "metadata": {},
     "output_type": "execute_result"
    }
   ],
   "source": [
    "card_type_breakdown = pioneer.groupby('set_name').size().reset_index(name = 'commons') # number of commons\n",
    "\n",
    "card_types = ['Creature', 'Enchantment', 'Instant', 'Sorcery', 'Artifact']\n",
    "for card_type in card_types:\n",
    "    new_df = pioneer[pioneer['type_line'].str.contains(card_type)].groupby('set_name').size().reset_index(name = card_type + \"s\")\n",
    "    card_type_breakdown = card_type_breakdown.merge(new_df, how = 'left', on = 'set_name')\n",
    "\n",
    "print('\\nCard Type Breakdown\\n')\n",
    "card_type_breakdown = card_type_breakdown.replace(np.nan, 0)\n",
    "card_type_breakdown"
   ]
  },
  {
   "cell_type": "markdown",
   "metadata": {
    "id": "BH1lHwtvYXHQ"
   },
   "source": [
    "## White"
   ]
  },
  {
   "cell_type": "code",
   "execution_count": 64,
   "metadata": {
    "colab": {
     "base_uri": "https://localhost:8080/",
     "height": 286
    },
    "id": "w8d3m2nCYXHQ",
    "outputId": "121ea5ca-f75c-47a4-fda2-6aa5b28c5bd4"
   },
   "outputs": [
    {
     "name": "stdout",
     "output_type": "stream",
     "text": [
      "\n",
      "Card Type Breakdown For White\n",
      "\n"
     ]
    },
    {
     "data": {
      "text/html": [
       "<div>\n",
       "<style scoped>\n",
       "    .dataframe tbody tr th:only-of-type {\n",
       "        vertical-align: middle;\n",
       "    }\n",
       "\n",
       "    .dataframe tbody tr th {\n",
       "        vertical-align: top;\n",
       "    }\n",
       "\n",
       "    .dataframe thead th {\n",
       "        text-align: right;\n",
       "    }\n",
       "</style>\n",
       "<table border=\"1\" class=\"dataframe\">\n",
       "  <thead>\n",
       "    <tr style=\"text-align: right;\">\n",
       "      <th></th>\n",
       "      <th>Creatures</th>\n",
       "      <th>Enchantments</th>\n",
       "      <th>Instants</th>\n",
       "      <th>Sorcerys</th>\n",
       "      <th>Artifacts</th>\n",
       "      <th>ratio_sums</th>\n",
       "    </tr>\n",
       "    <tr>\n",
       "      <th>set_name</th>\n",
       "      <th></th>\n",
       "      <th></th>\n",
       "      <th></th>\n",
       "      <th></th>\n",
       "      <th></th>\n",
       "      <th></th>\n",
       "    </tr>\n",
       "  </thead>\n",
       "  <tbody>\n",
       "    <tr>\n",
       "      <th>Aether Revolt</th>\n",
       "      <td>0.571429</td>\n",
       "      <td>0.142857</td>\n",
       "      <td>0.142857</td>\n",
       "      <td>0.071429</td>\n",
       "      <td>0.142857</td>\n",
       "      <td>1.071429</td>\n",
       "    </tr>\n",
       "    <tr>\n",
       "      <th>Amonkhet</th>\n",
       "      <td>0.650000</td>\n",
       "      <td>0.100000</td>\n",
       "      <td>0.250000</td>\n",
       "      <td>0.000000</td>\n",
       "      <td>0.000000</td>\n",
       "      <td>1.000000</td>\n",
       "    </tr>\n",
       "    <tr>\n",
       "      <th>Battle for Zendikar</th>\n",
       "      <td>0.611111</td>\n",
       "      <td>0.055556</td>\n",
       "      <td>0.277778</td>\n",
       "      <td>0.055556</td>\n",
       "      <td>0.000000</td>\n",
       "      <td>1.000000</td>\n",
       "    </tr>\n",
       "    <tr>\n",
       "      <th>Born of the Gods</th>\n",
       "      <td>0.583333</td>\n",
       "      <td>0.166667</td>\n",
       "      <td>0.166667</td>\n",
       "      <td>0.166667</td>\n",
       "      <td>0.000000</td>\n",
       "      <td>1.083333</td>\n",
       "    </tr>\n",
       "    <tr>\n",
       "      <th>Core Set 2019</th>\n",
       "      <td>0.666667</td>\n",
       "      <td>0.095238</td>\n",
       "      <td>0.190476</td>\n",
       "      <td>0.047619</td>\n",
       "      <td>0.000000</td>\n",
       "      <td>1.000000</td>\n",
       "    </tr>\n",
       "  </tbody>\n",
       "</table>\n",
       "</div>"
      ],
      "text/plain": [
       "                     Creatures  Enchantments  Instants  Sorcerys  Artifacts  \\\n",
       "set_name                                                                      \n",
       "Aether Revolt         0.571429      0.142857  0.142857  0.071429   0.142857   \n",
       "Amonkhet              0.650000      0.100000  0.250000  0.000000   0.000000   \n",
       "Battle for Zendikar   0.611111      0.055556  0.277778  0.055556   0.000000   \n",
       "Born of the Gods      0.583333      0.166667  0.166667  0.166667   0.000000   \n",
       "Core Set 2019         0.666667      0.095238  0.190476  0.047619   0.000000   \n",
       "\n",
       "                     ratio_sums  \n",
       "set_name                         \n",
       "Aether Revolt          1.071429  \n",
       "Amonkhet               1.000000  \n",
       "Battle for Zendikar    1.000000  \n",
       "Born of the Gods       1.083333  \n",
       "Core Set 2019          1.000000  "
      ]
     },
     "execution_count": 64,
     "metadata": {},
     "output_type": "execute_result"
    }
   ],
   "source": [
    "white = pioneer[pioneer['color_identity'].astype(str).str.contains(\"W\")]\n",
    "card_type_breakdown_w = white.groupby('set_name').size().reset_index(name = 'commons') # number of commons\n",
    "\n",
    "card_types = ['Creature', 'Enchantment', 'Instant', 'Sorcery', 'Artifact']\n",
    "for card_type in card_types:\n",
    "    new_df = white[white['type_line'].str.contains(card_type)].groupby('set_name').size().reset_index(name = card_type + \"s\")\n",
    "    card_type_breakdown_w = card_type_breakdown_w.merge(new_df, how = 'left', on = 'set_name')\n",
    "\n",
    "print('\\nCard Type Breakdown For White\\n')\n",
    "card_type_breakdown_w = card_type_breakdown_w.replace(np.nan, 0).set_index('set_name')\n",
    "ctypes_ratio_w = card_type_breakdown_w.iloc[:, 1:].div(card_type_breakdown_w.commons, axis = 0)\n",
    "ratio_sums = [row.Creatures + row.Enchantments + row.Instants + row.Sorcerys + row.Artifacts for index, row in ctypes_ratio_w.iterrows()]\n",
    "ctypes_ratio_w['ratio_sums'] = ratio_sums\n",
    "ctypes_ratio_w.head()"
   ]
  },
  {
   "cell_type": "code",
   "execution_count": 65,
   "metadata": {
    "id": "5XDKp74zYXHR"
   },
   "outputs": [],
   "source": [
    "# cart_type_w_long = pd.melt(card_type_breakdown_w, value_vars = ['Creatures', 'Enchantments', 'Instants', 'Sorcerys', 'Artifacts'],  var_name = 'card_type')"
   ]
  },
  {
   "cell_type": "markdown",
   "metadata": {
    "id": "a_DCy7-cYXHR"
   },
   "source": [
    "### Creatures"
   ]
  },
  {
   "cell_type": "markdown",
   "metadata": {
    "id": "NrVzMoKsZz6u"
   },
   "source": [
    "#### Average Curve"
   ]
  },
  {
   "cell_type": "code",
   "execution_count": 66,
   "metadata": {
    "colab": {
     "base_uri": "https://localhost:8080/",
     "height": 350
    },
    "id": "7lgELujjYXHS",
    "outputId": "698bc265-5a58-4cac-bb22-a23690cda302"
   },
   "outputs": [
    {
     "data": {
      "image/png": "[encoded data removed]",
      "text/plain": [
       "<Figure size 576x360 with 1 Axes>"
      ]
     },
     "metadata": {
      "needs_background": "light"
     },
     "output_type": "display_data"
    }
   ],
   "source": [
    "# white creatures df\n",
    "white_creatures = white[white['type_line'].str.contains('Creature')]\n",
    "creature_curve_df_w = white_creatures.groupby(['set_name', 'cmc']).size().reset_index(name = 'cards')\n",
    "creature_curve_df_w = creature_curve_df_w.groupby('cmc').cards.agg(['mean', 'min', 'max', 'std']).reset_index()\n",
    "creature_curve_df_w['count_ratio'] = creature_curve_df_w['mean'] / creature_curve_df_w['mean'].sum()\n",
    "\n",
    "# white creature curve\n",
    "plt.figure(figsize = (8,5))\n",
    "plt.bar(x = creature_curve_df_w['cmc'], height = creature_curve_df_w['mean'], yerr = creature_curve_df_w['std'],\n",
    "        color = 'ivory', edgecolor = 'black')\n",
    "plt.ylabel('Average Card Count')\n",
    "plt.xlabel('Mana Value')\n",
    "plt.title('White: Average Creature Curve');"
   ]
  },
  {
   "cell_type": "code",
   "execution_count": 67,
   "metadata": {
    "colab": {
     "base_uri": "https://localhost:8080/"
    },
    "id": "lQb89C7RccXd",
    "outputId": "4b60022a-7e52-412d-ff63-8673f0b7d29f"
   },
   "outputs": [
    {
     "name": "stdout",
     "output_type": "stream",
     "text": [
      "Average percent of white cards which are creatures: 0.6079410458257112 \n",
      "\n",
      "\tRatio of 1.0 drops: 0.12635156913880505\n",
      "\tRatio of 2.0 drops: 0.2508277903126556\n",
      "\tRatio of 3.0 drops: 0.2320743106631113\n",
      "\tRatio of 4.0 drops: 0.1570603920649339\n",
      "\tRatio of 5.0 drops: 0.13054179974800012\n",
      "\tRatio of 6.0 drops: 0.10314413807249391\n"
     ]
    }
   ],
   "source": [
    "creature_ratio_w = ctypes_ratio_w['Creatures'].mean()\n",
    "print(\"Average percent of white cards which are creatures:\", creature_ratio_w, \"\\n\")\n",
    "\n",
    "for index, row in creature_curve_df_w.iterrows():\n",
    "  print(\"\\tRatio of\", row['cmc'], \"drops:\", row['count_ratio'])"
   ]
  },
  {
   "cell_type": "code",
   "execution_count": 167,
   "metadata": {},
   "outputs": [
    {
     "data": {
      "image/png": "[encoded data removed]",
      "text/plain": [
       "<Figure size 720x432 with 1 Axes>"
      ]
     },
     "metadata": {
      "needs_background": "light"
     },
     "output_type": "display_data"
    }
   ],
   "source": [
    "# stats\n",
    "creature_ratio_w = ctypes_ratio_w['Creatures'].mean()\n",
    "creatures_w_evasion = len(white_creatures[white_creatures['evasion'] == True]) / len(white_creatures)\n",
    "\n",
    "fig = plt.figure(figsize=(10,6))\n",
    "ax = fig.add_subplot()\n",
    "#fig.subplots_adjust(top = 0.85)\n",
    "\n",
    "# set axis titles and plot titles\n",
    "fig.suptitle('Avg. White Common Creature Curve', fontsize = 14)\n",
    "ax.set_title('Percent of commons that are creatures: {}; Percent of creatures with evasion: {}'.\n",
    "             format(str(round(100 * creature_ratio_w)) + '%', str(round(100*creatures_w_evasion)) + '%'))\n",
    "ax.set_xlabel('Mana Value')\n",
    "ax.set_ylabel('Avg. Card Count')\n",
    "\n",
    "# adjust plot limits\n",
    "#ax.axis([0,max(creature_curve_df_w['cmc']),0,max(creature_curve_df_w['mean'] + max(creature_curve_df_w['std']))])\n",
    "\n",
    "# insert bar chart\n",
    "plt.bar(x = creature_curve_df_w['cmc'], height = creature_curve_df_w['mean'], yerr = creature_curve_df_w['std'],\n",
    "        color = 'ivory', edgecolor = 'black')\n",
    "\n",
    "# insert texts\n",
    "for index, row in creature_curve_df_w.iterrows():\n",
    "    ax.text(row['cmc'], 0.25, round(row['count_ratio'], 2), horizontalalignment = 'center')\n",
    "    \n",
    "fig;"
   ]
  },
  {
   "cell_type": "code",
   "execution_count": 180,
   "metadata": {},
   "outputs": [
    {
     "data": {
      "image/png": "[encoded data removed]",
      "text/plain": [
       "<Figure size 720x1440 with 5 Axes>"
      ]
     },
     "metadata": {
      "needs_background": "light"
     },
     "output_type": "display_data"
    }
   ],
   "source": [
    "fig, axs = plt.subplots(5,1)\n",
    "fig.set_figheight(20)\n",
    "fig.set_figwidth(10)\n",
    "fig.suptitle('MTG Pioneer Sets: Common Creature Curve', fontsize = 20)\n",
    "\n",
    "# subplot 1: white\n",
    "axs[0].set_title('WHITE: {} of commons are creatures. {} of creatures have evasion.'.\n",
    "             format(str(round(100 * creature_ratio_w)) + '%', str(round(100*creatures_w_evasion)) + '%'))\n",
    "axs[0].bar(x = creature_curve_df_w['cmc'], height = creature_curve_df_w['mean'], yerr = creature_curve_df_w['std'],\n",
    "           color = 'ivory', edgecolor = 'black')\n",
    "for index, row in creature_curve_df_w.iterrows():\n",
    "    axs[0].text(row['cmc'], 0.5, 'Ratio:', horizontalalignment = 'center')\n",
    "    axs[0].text(row['cmc'], 0.25, round(row['count_ratio'], 2), horizontalalignment = 'center')\n",
    "\n",
    "\n",
    "# subplot 2: blue\n",
    "axs[1].set_title('Blue')\n",
    "\n",
    "fig;"
   ]
  },
  {
   "cell_type": "markdown",
   "metadata": {
    "id": "zun4dAAHpQ2e"
   },
   "source": [
    "### Non-Creatures"
   ]
  },
  {
   "cell_type": "code",
   "execution_count": null,
   "metadata": {
    "colab": {
     "base_uri": "https://localhost:8080/",
     "height": 357
    },
    "id": "s7EmB7-upVvv",
    "outputId": "96532896-a443-40aa-c449-75fcd59d6535"
   },
   "outputs": [],
   "source": []
  },
  {
   "cell_type": "markdown",
   "metadata": {
    "id": "0rN6kLFzYXHT"
   },
   "source": [
    "## Blue"
   ]
  },
  {
   "cell_type": "code",
   "execution_count": null,
   "metadata": {
    "colab": {
     "base_uri": "https://localhost:8080/",
     "height": 286
    },
    "id": "Fkrkwx15YXHU",
    "outputId": "a7643732-3051-4569-8cfb-f2b38c6a121d"
   },
   "outputs": [],
   "source": [
    "blue = pioneer[pioneer['color_identity'].astype(str).str.contains(\"U\")]\n",
    "card_type_breakdown_u = blue.groupby('set_name').size().reset_index(name = 'commons') # number of commons\n",
    "\n",
    "card_types = ['Creature', 'Enchantment', 'Instant', 'Sorcery', 'Artifact']\n",
    "for card_type in card_types:\n",
    "    new_df = blue[blue['type_line'].str.contains(card_type)].groupby('set_name').size().reset_index(name = card_type + \"s\")\n",
    "    card_type_breakdown_u = card_type_breakdown_u.merge(new_df, how = 'left', on = 'set_name')\n",
    "\n",
    "print('\\nCard Type Breakdown For Blue\\n')\n",
    "card_type_breakdown_u = card_type_breakdown_u.replace(np.nan, 0).set_index('set_name')\n",
    "ctypes_ratio_u = card_type_breakdown_u.iloc[:, 1:].div(card_type_breakdown_u.commons, axis = 0)\n",
    "ratio_sums = [row.Creatures + row.Enchantments + row.Instants + row.Sorcerys + row.Artifacts for index, row in ctypes_ratio_u.iterrows()]\n",
    "ctypes_ratio_u['ratio_sums'] = ratio_sums\n",
    "ctypes_ratio_u.head()"
   ]
  },
  {
   "cell_type": "markdown",
   "metadata": {
    "id": "AksOqqvWl5zv"
   },
   "source": [
    "### Creatures"
   ]
  },
  {
   "cell_type": "code",
   "execution_count": null,
   "metadata": {
    "colab": {
     "base_uri": "https://localhost:8080/",
     "height": 350
    },
    "id": "Lz3ebjEzl1XR",
    "outputId": "057a2c96-b448-49fb-826a-c0492a0a2977"
   },
   "outputs": [],
   "source": [
    "# blue creatures df\n",
    "blue_creatures = blue[blue['type_line'].str.contains('Creature')]\n",
    "creature_curve_df_u = blue_creatures.groupby(['set_name', 'cmc']).size().reset_index(name = 'cards')\n",
    "creature_curve_df_u = creature_curve_df_u.groupby('cmc').cards.agg(['mean', 'min', 'max', 'std']).reset_index()\n",
    "creature_curve_df_u['count_ratio'] = creature_curve_df_u['mean'] / creature_curve_df_u['mean'].sum()\n",
    "\n",
    "# blue creature curve\n",
    "plt.figure(figsize = (8,5))\n",
    "plt.bar(x = creature_curve_df_u['cmc'], height = creature_curve_df_u['mean'], yerr = creature_curve_df_u['std'],\n",
    "        color = 'dodgerblue', edgecolor = 'black')\n",
    "plt.ylabel('Average Card Count')\n",
    "plt.xlabel('Mana Value')\n",
    "plt.title('Blue: Average Creature Curve');"
   ]
  },
  {
   "cell_type": "code",
   "execution_count": null,
   "metadata": {
    "colab": {
     "base_uri": "https://localhost:8080/"
    },
    "id": "THkaw1ZgmWAr",
    "outputId": "dcf30755-054d-4550-b4ea-d2e8f8bc0f00"
   },
   "outputs": [],
   "source": [
    "creature_ratio_u = ctypes_ratio_u['Creatures'].mean()\n",
    "print(\"Average percent of blue cards which are creatures:\", creature_ratio_u, \"\\n\")\n",
    "\n",
    "for index, row in creature_curve_df_u.iterrows():\n",
    "  print(\"\\tRatio of\", row['cmc'], \"drops:\", row['count_ratio'])"
   ]
  },
  {
   "cell_type": "markdown",
   "metadata": {
    "id": "gvoYHOkmYXHU"
   },
   "source": [
    "## Black"
   ]
  },
  {
   "cell_type": "code",
   "execution_count": null,
   "metadata": {
    "colab": {
     "base_uri": "https://localhost:8080/",
     "height": 286
    },
    "id": "Rq9lrbhupEDO",
    "outputId": "901ffe33-6abf-46e7-a305-5def667757ac"
   },
   "outputs": [],
   "source": [
    "black = pioneer[pioneer['color_identity'].astype(str).str.contains(\"B\")]\n",
    "card_type_breakdown_b = black.groupby('set_name').size().reset_index(name = 'commons') # number of commons\n",
    "\n",
    "card_types = ['Creature', 'Enchantment', 'Instant', 'Sorcery', 'Artifact']\n",
    "for card_type in card_types:\n",
    "    new_df = black[black['type_line'].str.contains(card_type)].groupby('set_name').size().reset_index(name = card_type + \"s\")\n",
    "    card_type_breakdown_b = card_type_breakdown_b.merge(new_df, how = 'left', on = 'set_name')\n",
    "\n",
    "print('\\nCard Type Breakdown For Black\\n')\n",
    "card_type_breakdown_b = card_type_breakdown_b.replace(np.nan, 0).set_index('set_name')\n",
    "ctypes_ratio_b = card_type_breakdown_b.iloc[:, 1:].div(card_type_breakdown_b.commons, axis = 0)\n",
    "ratio_sums = [row.Creatures + row.Enchantments + row.Instants + row.Sorcerys + row.Artifacts for index, row in ctypes_ratio_u.iterrows()]\n",
    "ctypes_ratio_b['ratio_sums'] = ratio_sums\n",
    "ctypes_ratio_b.head()"
   ]
  },
  {
   "cell_type": "markdown",
   "metadata": {
    "id": "nO5BuBuUnec9"
   },
   "source": [
    "### Creatures"
   ]
  },
  {
   "cell_type": "code",
   "execution_count": null,
   "metadata": {
    "colab": {
     "base_uri": "https://localhost:8080/",
     "height": 350
    },
    "id": "PFPI6uqWYXHV",
    "outputId": "161264c9-9d84-4549-f403-162f773ce811"
   },
   "outputs": [],
   "source": [
    "# black creatures df\n",
    "black_creatures = black[black['type_line'].str.contains('Creature')]\n",
    "creature_curve_df_b = black_creatures.groupby(['set_name', 'cmc']).size().reset_index(name = 'cards')\n",
    "creature_curve_df_b = creature_curve_df_b.groupby('cmc').cards.agg(['mean', 'min', 'max', 'std']).reset_index()\n",
    "creature_curve_df_b['count_ratio'] = creature_curve_df_b['mean'] / creature_curve_df_b['mean'].sum()\n",
    "\n",
    "# black creature curve\n",
    "plt.figure(figsize = (8,5))\n",
    "plt.bar(x = creature_curve_df_b['cmc'], height = creature_curve_df_b['mean'], yerr = creature_curve_df_b['std'],\n",
    "        color = 'dimgray', edgecolor = 'black')\n",
    "plt.ylabel('Average Card Count')\n",
    "plt.xlabel('Mana Value')\n",
    "plt.title('Black: Average Creature Curve');"
   ]
  },
  {
   "cell_type": "code",
   "execution_count": null,
   "metadata": {
    "colab": {
     "base_uri": "https://localhost:8080/"
    },
    "id": "KbkasZ1mqjSN",
    "outputId": "371d9747-8614-400d-d4fc-94c3db9848f4"
   },
   "outputs": [],
   "source": [
    "creature_ratio_b = ctypes_ratio_b['Creatures'].mean()\n",
    "print(\"Average percent of black cards which are creatures:\", creature_ratio_b, \"\\n\")\n",
    "\n",
    "for index, row in creature_curve_df_b.iterrows():\n",
    "  print(\"\\tRatio of\", row['cmc'], \"drops:\", row['count_ratio'])"
   ]
  },
  {
   "cell_type": "markdown",
   "metadata": {
    "id": "aEcEjumnYXHV"
   },
   "source": [
    "## Red"
   ]
  },
  {
   "cell_type": "code",
   "execution_count": null,
   "metadata": {
    "colab": {
     "base_uri": "https://localhost:8080/",
     "height": 286
    },
    "id": "Fq5qiDPbYXHW",
    "outputId": "00fc91ea-72f4-4202-d3d6-e0ac0489fa34"
   },
   "outputs": [],
   "source": [
    "red = pioneer[pioneer['color_identity'].astype(str).str.contains(\"R\")]\n",
    "card_type_breakdown_r = red.groupby('set_name').size().reset_index(name = 'commons') # number of commons\n",
    "\n",
    "card_types = ['Creature', 'Enchantment', 'Instant', 'Sorcery', 'Artifact']\n",
    "for card_type in card_types:\n",
    "    new_df = red[red['type_line'].str.contains(card_type)].groupby('set_name').size().reset_index(name = card_type + \"s\")\n",
    "    card_type_breakdown_r = card_type_breakdown_r.merge(new_df, how = 'left', on = 'set_name')\n",
    "\n",
    "print('\\nCard Type Breakdown For Red\\n')\n",
    "card_type_breakdown_r = card_type_breakdown_r.replace(np.nan, 0).set_index('set_name')\n",
    "ctypes_ratio_r = card_type_breakdown_r.iloc[:, 1:].div(card_type_breakdown_r.commons, axis = 0)\n",
    "ratio_sums = [row.Creatures + row.Enchantments + row.Instants + row.Sorcerys + row.Artifacts for index, row in ctypes_ratio_u.iterrows()]\n",
    "ctypes_ratio_r['ratio_sums'] = ratio_sums\n",
    "ctypes_ratio_r.head()"
   ]
  },
  {
   "cell_type": "markdown",
   "metadata": {
    "id": "0pljaiWbq7fF"
   },
   "source": [
    "### Creatures"
   ]
  },
  {
   "cell_type": "code",
   "execution_count": null,
   "metadata": {
    "colab": {
     "base_uri": "https://localhost:8080/",
     "height": 350
    },
    "id": "cxaD91tbq9Eg",
    "outputId": "2d873b66-b574-4698-9b87-7b41e7d231a6"
   },
   "outputs": [],
   "source": [
    "# red creatures df\n",
    "red_creatures = red[red['type_line'].str.contains('Creature')]\n",
    "creature_curve_df_r = red_creatures.groupby(['set_name', 'cmc']).size().reset_index(name = 'cards')\n",
    "creature_curve_df_r = creature_curve_df_r.groupby('cmc').cards.agg(['mean', 'min', 'max', 'std']).reset_index()\n",
    "creature_curve_df_r['count_ratio'] = creature_curve_df_r['mean'] / creature_curve_df_r['mean'].sum()\n",
    "\n",
    "# red creature curve\n",
    "plt.figure(figsize = (8,5))\n",
    "plt.bar(x = creature_curve_df_r['cmc'], height = creature_curve_df_r['mean'], yerr = creature_curve_df_r['std'],\n",
    "        color = 'crimson', edgecolor = 'black')\n",
    "plt.ylabel('Average Card Count')\n",
    "plt.xlabel('Mana Value')\n",
    "plt.title('Red: Average Creature Curve');"
   ]
  },
  {
   "cell_type": "code",
   "execution_count": null,
   "metadata": {
    "colab": {
     "base_uri": "https://localhost:8080/"
    },
    "id": "0Mb3f4aOs6Fa",
    "outputId": "9a99f17f-5be2-4b32-c912-23f853012732"
   },
   "outputs": [],
   "source": [
    "creature_ratio_r = ctypes_ratio_r['Creatures'].mean()\n",
    "print(\"Average percent of red cards which are creatures:\", creature_ratio_r, \"\\n\")\n",
    "\n",
    "for index, row in creature_curve_df_r.iterrows():\n",
    "  print(\"\\tRatio of\", row['cmc'], \"drops:\", row['count_ratio'])"
   ]
  },
  {
   "cell_type": "markdown",
   "metadata": {
    "id": "nThDiMYvYXHW"
   },
   "source": [
    "## Green"
   ]
  },
  {
   "cell_type": "code",
   "execution_count": null,
   "metadata": {
    "colab": {
     "base_uri": "https://localhost:8080/",
     "height": 286
    },
    "id": "4_XsrTArYXHW",
    "outputId": "a1f6b8a6-a588-4581-a3d0-b60786bd3aad"
   },
   "outputs": [],
   "source": [
    "green = pioneer[pioneer['color_identity'].astype(str).str.contains(\"G\")]\n",
    "card_type_breakdown_g = green.groupby('set_name').size().reset_index(name = 'commons') # number of commons\n",
    "\n",
    "card_types = ['Creature', 'Enchantment', 'Instant', 'Sorcery', 'Artifact']\n",
    "for card_type in card_types:\n",
    "    new_df = green[green['type_line'].str.contains(card_type)].groupby('set_name').size().reset_index(name = card_type + \"s\")\n",
    "    card_type_breakdown_g = card_type_breakdown_g.merge(new_df, how = 'left', on = 'set_name')\n",
    "\n",
    "print('\\nCard Type Breakdown For Green\\n')\n",
    "card_type_breakdown_g = card_type_breakdown_g.replace(np.nan, 0).set_index('set_name')\n",
    "ctypes_ratio_g = card_type_breakdown_g.iloc[:, 1:].div(card_type_breakdown_g.commons, axis = 0)\n",
    "ratio_sums = [row.Creatures + row.Enchantments + row.Instants + row.Sorcerys + row.Artifacts for index, row in ctypes_ratio_u.iterrows()]\n",
    "ctypes_ratio_g['ratio_sums'] = ratio_sums\n",
    "ctypes_ratio_g.head()"
   ]
  },
  {
   "cell_type": "markdown",
   "metadata": {
    "id": "BNqKnzdhtnfc"
   },
   "source": [
    "### Creatures"
   ]
  },
  {
   "cell_type": "code",
   "execution_count": null,
   "metadata": {
    "colab": {
     "base_uri": "https://localhost:8080/",
     "height": 350
    },
    "id": "FhnZ4vrUto2D",
    "outputId": "a8fb54d2-132d-4016-8c98-8d2477b82efa"
   },
   "outputs": [],
   "source": [
    "# green creatures df\n",
    "green_creatures = green[green['type_line'].str.contains('Creature')]\n",
    "creature_curve_df_g = green_creatures.groupby(['set_name', 'cmc']).size().reset_index(name = 'cards')\n",
    "creature_curve_df_g = creature_curve_df_g.groupby('cmc').cards.agg(['mean', 'min', 'max', 'std']).reset_index()\n",
    "creature_curve_df_g['count_ratio'] = creature_curve_df_g['mean'] / creature_curve_df_g['mean'].sum()\n",
    "\n",
    "# green creature curve\n",
    "plt.figure(figsize = (8,5))\n",
    "plt.bar(x = creature_curve_df_g['cmc'], height = creature_curve_df_g['mean'], yerr = creature_curve_df_g['std'],\n",
    "        color = 'forestgreen', edgecolor = 'black')\n",
    "plt.ylabel('Average Card Count')\n",
    "plt.xlabel('Mana Value')\n",
    "plt.title('Green: Average Creature Curve');"
   ]
  },
  {
   "cell_type": "code",
   "execution_count": null,
   "metadata": {
    "colab": {
     "base_uri": "https://localhost:8080/"
    },
    "id": "uJFI4BZNuWiL",
    "outputId": "20d5334f-a03d-4520-9999-7827dc1f9dc0"
   },
   "outputs": [],
   "source": [
    "creature_ratio_g = ctypes_ratio_g['Creatures'].mean()\n",
    "print(\"Average percent of green cards which are creatures:\", creature_ratio_g, \"\\n\")\n",
    "\n",
    "for index, row in creature_curve_df_g.iterrows():\n",
    "  print(\"\\tRatio of\", row['cmc'], \"drops:\", row['count_ratio'])"
   ]
  }
 ],
 "metadata": {
  "colab": {
   "collapsed_sections": [],
   "name": "scryfall_cube_structure.ipynb",
   "provenance": [],
   "toc_visible": true
  },
  "kernelspec": {
   "display_name": "Python 3",
   "language": "python",
   "name": "python3"
  },
  "language_info": {
   "codemirror_mode": {
    "name": "ipython",
    "version": 3
   },
   "file_extension": ".py",
   "mimetype": "text/x-python",
   "name": "python",
   "nbconvert_exporter": "python",
   "pygments_lexer": "ipython3",
   "version": "3.7.7"
  }
 },
 "nbformat": 4,
 "nbformat_minor": 4
}
