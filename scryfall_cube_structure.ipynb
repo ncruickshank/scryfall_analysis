{
 "cells": [
  {
   "cell_type": "markdown",
   "metadata": {},
   "source": [
    "# Scryfall Analysis - Cube Structure"
   ]
  },
  {
   "cell_type": "markdown",
   "metadata": {},
   "source": [
    "__Objective:__ Connect to publicly available data on Scryfall through their REST API to identify patterns set design."
   ]
  },
  {
   "cell_type": "code",
   "execution_count": null,
   "metadata": {},
   "outputs": [],
   "source": [
    "import datetime\n",
    "print(\"Script last ran on\", datetime.datetime.today().strftime(\"%m/%d/%Y\"))"
   ]
  },
  {
   "cell_type": "code",
   "execution_count": null,
   "metadata": {},
   "outputs": [],
   "source": [
    "# libraries\n",
    "import numpy as np\n",
    "import pandas as pd\n",
    "from matplotlib import pyplot as plt\n",
    "%matplotlib inline\n",
    "import requests\n",
    "from selenium import webdriver"
   ]
  },
  {
   "cell_type": "code",
   "execution_count": null,
   "metadata": {},
   "outputs": [],
   "source": [
    "# open browser and go to scryfall\n",
    "driver = webdriver.Chrome()\n",
    "driver.get(\"https://scryfall.com/docs/api/bulk-data\")\n",
    "\n",
    "# retrieve the most recent json file containing 'Default Cards'\n",
    "default_cards_href = driver.find_element_by_css_selector('#main > div > div.reference-doc-content > div > table:nth-child(7) > tbody > tr:nth-child(5) > td:nth-child(2) > a').get_attribute('href')\n",
    "\n",
    "# retrieve the most recent json file containing 'All Cards'\n",
    "all_cards_href = driver.find_element_by_css_selector('#main > div > div.reference-doc-content > div > table:nth-child(7) > tbody > tr:nth-child(7) > td:nth-child(2) > a').get_attribute('href')\n",
    "\n",
    "print(\"HREF for 'Default Cards' Bulk Dataset:\\n\\t\", default_cards_href, \"\\n\")\n",
    "print(\"HREF for 'All Cards' Bulk Dataset:\\n\\t\", all_cards_href)"
   ]
  },
  {
   "cell_type": "code",
   "execution_count": null,
   "metadata": {},
   "outputs": [],
   "source": [
    "driver.quit()\n",
    "try:\n",
    "    df = pd.read_json(default_cards_href)\n",
    "except:\n",
    "    df = pd.read_json(all_cards_href)\n",
    "#df = pd.read_json(default_cards_href)"
   ]
  },
  {
   "cell_type": "code",
   "execution_count": null,
   "metadata": {},
   "outputs": [],
   "source": [
    "print(\"Shape of df (rows, columns): \", df.shape)\n",
    "print(\"Columns Names\\n\", list(df.columns), \"\\n\")\n",
    "df.head()"
   ]
  },
  {
   "cell_type": "code",
   "execution_count": null,
   "metadata": {},
   "outputs": [],
   "source": [
    "# tidy dataframe\n",
    "cols = ['name', 'mana_cost', 'cmc', 'type_line', 'oracle_text', 'power', 'toughness', 'colors', 'color_identity', 'keywords', 'set', 'set_name', 'rarity', 'edhrec_rank', 'produced_mana', 'printed_name', 'printed_text', 'legalities', 'lang']\n",
    "pioneer_sets = ['Strixhaven: School of Mages', 'Kaldheim', 'Zendikar Rising', 'Core 2021', 'Ikoria Lair of Behemoths', 'Theros Beyond Death', 'Throne of Eldraine', 'Core Set 2020', \n",
    "                'War of the Spark', 'Ravnica Allegiance', 'Guilds of Ravnica', 'Core Set 2019', 'Dominaria', 'Rivals of Ixalan', 'Ixalan', 'Hour of Devastation', \n",
    "                'Amonkhet', 'Aether Revolt', 'Kaladesh', 'Eldritch Moon', 'Shadows over Innistrad', 'Oath of the Gatewatch', 'Battle for Zendikar', 'Magic Origins', \n",
    "                'Dragons of Tarkir', 'Fate Reforged', 'Khans of Tarkir', 'Magic 2015', 'Journey into Nyx', 'Born of the Gods', 'Theros', 'Magic 2014', \n",
    "                \"Dragon's Maze\", 'Gatecrash', 'Return to Ravnica']\n",
    "\n",
    "pioneer = df[cols]\n",
    "\n",
    "#pioneer = pioneer[pioneer['legalities'].astype(str).str.contains(\"'pioneer': 'legal'\")] # take only cards from pioneer onwards\n",
    "pioneer = pioneer[pioneer['set_name'].isin(pioneer_sets)]\n",
    "pioneer = pioneer[(pioneer['rarity'] == 'common') & (~pioneer['type_line'].str.contains('Land')) &\n",
    "                 (pioneer['lang'] == 'en')] # filter for commons that aren't lands\n",
    "pioneer"
   ]
  },
  {
   "cell_type": "markdown",
   "metadata": {},
   "source": [
    "## Summary Statistics by Set"
   ]
  },
  {
   "cell_type": "code",
   "execution_count": null,
   "metadata": {},
   "outputs": [],
   "source": [
    "card_type_breakdown = pioneer.groupby('set_name').size().reset_index(name = 'commons') # number of commons\n",
    "\n",
    "card_types = ['Creature', 'Enchantment', 'Instant', 'Sorcery', 'Artifact']\n",
    "for card_type in card_types:\n",
    "    new_df = pioneer[pioneer['type_line'].str.contains(card_type)].groupby('set_name').size().reset_index(name = card_type + \"s\")\n",
    "    card_type_breakdown = card_type_breakdown.merge(new_df, how = 'left', on = 'set_name')\n",
    "\n",
    "print('\\nCard Type Breakdown\\n')\n",
    "card_type_breakdown = card_type_breakdown.replace(np.nan, 0)\n",
    "card_type_breakdown"
   ]
  },
  {
   "cell_type": "code",
   "execution_count": null,
   "metadata": {},
   "outputs": [],
   "source": [
    "# for each card type, create a boxplot chart where x is set and y is card ratio"
   ]
  },
  {
   "cell_type": "markdown",
   "metadata": {},
   "source": [
    "## White"
   ]
  },
  {
   "cell_type": "code",
   "execution_count": null,
   "metadata": {},
   "outputs": [],
   "source": [
    "white = pioneer[pioneer['color_identity'].astype(str).str.contains(\"W\")]"
   ]
  },
  {
   "cell_type": "code",
   "execution_count": null,
   "metadata": {},
   "outputs": [],
   "source": [
    "card_type_breakdown_w = white.groupby('set_name').size().reset_index(name = 'commons') # number of commons\n",
    "\n",
    "card_types = ['Creature', 'Enchantment', 'Instant', 'Sorcery', 'Artifact']\n",
    "for card_type in card_types:\n",
    "    new_df = white[white['type_line'].str.contains(card_type)].groupby('set_name').size().reset_index(name = card_type + \"s\")\n",
    "    card_type_breakdown_w = card_type_breakdown_w.merge(new_df, how = 'left', on = 'set_name')\n",
    "\n",
    "print('\\nCard Type Breakdown For White\\n')\n",
    "card_type_breakdown_w = card_type_breakdown_w.replace(np.nan, 0).set_index('set_name')\n",
    "ctypes_ratio_w = card_type_breakdown_w.iloc[:, 1:].div(card_type_breakdown_w.commons, axis = 0)\n",
    "ratio_sums = [row.Creatures + row.Enchantments + row.Instants + row.Sorcerys + row.Artifacts for index, row in ctypes_ratio_w.iterrows()]\n",
    "ctypes_ratio_w['ratio_sums'] = ratio_sums\n",
    "ctypes_ratio_w.head()"
   ]
  },
  {
   "cell_type": "code",
   "execution_count": null,
   "metadata": {},
   "outputs": [],
   "source": [
    "# cart_type_w_long = pd.melt(card_type_breakdown_w, value_vars = ['Creatures', 'Enchantments', 'Instants', 'Sorcerys', 'Artifacts'],  var_name = 'card_type')"
   ]
  },
  {
   "cell_type": "markdown",
   "metadata": {},
   "source": [
    "### Creatures"
   ]
  },
  {
   "cell_type": "code",
   "execution_count": null,
   "metadata": {},
   "outputs": [],
   "source": [
    "ctypes_ratio_w['Creatures'].mean()"
   ]
  },
  {
   "cell_type": "code",
   "execution_count": null,
   "metadata": {},
   "outputs": [],
   "source": [
    "white_creatures = white[white['type_line'].str.contains('Creature')]\n",
    "creature_curve_df_w = white_creatures.groupby(['set_name', 'cmc']).size().reset_index(name = 'cards')\n",
    "creature_curve_df_w = creature_curve_df_w.groupby('cmc').cards.agg(['mean', 'min', 'max']).reset_index()\n",
    "plt.bar(x = creature_curve_df_w['cmc'], height = creature_curve_df_w['mean'],\n",
    "        color = 'white', edgecolor = 'black')\n",
    "plt.scatter(x = creature_curve_df_w['cmc'], y = creature_curve_df_w['max'])\n",
    "plt.title('Average Creature Curve')"
   ]
  },
  {
   "cell_type": "markdown",
   "metadata": {},
   "source": [
    "## Blue"
   ]
  },
  {
   "cell_type": "code",
   "execution_count": null,
   "metadata": {},
   "outputs": [],
   "source": [
    "blue = pioneer[pioneer['color_identity'].astype(str).str.contains(\"U\")]\n",
    "blue_creatures = blue[blue['type_line'].str.contains('Creature')]\n",
    "blue_creatures"
   ]
  },
  {
   "cell_type": "markdown",
   "metadata": {},
   "source": [
    "## Black"
   ]
  },
  {
   "cell_type": "code",
   "execution_count": null,
   "metadata": {},
   "outputs": [],
   "source": []
  },
  {
   "cell_type": "markdown",
   "metadata": {},
   "source": [
    "## Red"
   ]
  },
  {
   "cell_type": "code",
   "execution_count": null,
   "metadata": {},
   "outputs": [],
   "source": []
  },
  {
   "cell_type": "markdown",
   "metadata": {},
   "source": [
    "## Green"
   ]
  },
  {
   "cell_type": "code",
   "execution_count": null,
   "metadata": {},
   "outputs": [],
   "source": []
  }
 ],
 "metadata": {
  "kernelspec": {
   "display_name": "Python 3",
   "language": "python",
   "name": "python3"
  },
  "language_info": {
   "codemirror_mode": {
    "name": "ipython",
    "version": 3
   },
   "file_extension": ".py",
   "mimetype": "text/x-python",
   "name": "python",
   "nbconvert_exporter": "python",
   "pygments_lexer": "ipython3",
   "version": "3.7.7"
  }
 },
 "nbformat": 4,
 "nbformat_minor": 4
}
